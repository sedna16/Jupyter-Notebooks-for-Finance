{
 "cells": [
  {
   "cell_type": "code",
   "execution_count": 12,
   "id": "e7b779b5",
   "metadata": {},
   "outputs": [],
   "source": [
    "# Notebook Tutorial: How To Get The Sortino Ratio Of The Stock\n",
    "\n",
    "# import the necessary modules\n",
    "import numpy as np\n",
    "import pandas as pd\n",
    "import pandas_datareader.data as pdr"
   ]
  },
  {
   "cell_type": "code",
   "execution_count": 14,
   "id": "952c0ef6",
   "metadata": {},
   "outputs": [],
   "source": [
    "# set the starting date and ending date\n",
    "START_DATE = '2015-1-1'\n",
    "END_DATE = '2021-1-1'\n",
    "\n",
    "# set the ticker symbol\n",
    "TICKER = 'TSLA'"
   ]
  },
  {
   "cell_type": "code",
   "execution_count": 15,
   "id": "f75b8fdc",
   "metadata": {},
   "outputs": [
    {
     "data": {
      "text/html": [
       "<div>\n",
       "<style scoped>\n",
       "    .dataframe tbody tr th:only-of-type {\n",
       "        vertical-align: middle;\n",
       "    }\n",
       "\n",
       "    .dataframe tbody tr th {\n",
       "        vertical-align: top;\n",
       "    }\n",
       "\n",
       "    .dataframe thead th {\n",
       "        text-align: right;\n",
       "    }\n",
       "</style>\n",
       "<table border=\"1\" class=\"dataframe\">\n",
       "  <thead>\n",
       "    <tr style=\"text-align: right;\">\n",
       "      <th></th>\n",
       "      <th>High</th>\n",
       "      <th>Low</th>\n",
       "      <th>Open</th>\n",
       "      <th>Close</th>\n",
       "      <th>Volume</th>\n",
       "      <th>Adj Close</th>\n",
       "      <th>Returns</th>\n",
       "    </tr>\n",
       "    <tr>\n",
       "      <th>Date</th>\n",
       "      <th></th>\n",
       "      <th></th>\n",
       "      <th></th>\n",
       "      <th></th>\n",
       "      <th></th>\n",
       "      <th></th>\n",
       "      <th></th>\n",
       "    </tr>\n",
       "  </thead>\n",
       "  <tbody>\n",
       "    <tr>\n",
       "      <th>2014-12-31</th>\n",
       "      <td>45.136002</td>\n",
       "      <td>44.450001</td>\n",
       "      <td>44.618000</td>\n",
       "      <td>44.481998</td>\n",
       "      <td>11487500.0</td>\n",
       "      <td>44.481998</td>\n",
       "      <td>0.000000</td>\n",
       "    </tr>\n",
       "    <tr>\n",
       "      <th>2015-01-02</th>\n",
       "      <td>44.650002</td>\n",
       "      <td>42.652000</td>\n",
       "      <td>44.574001</td>\n",
       "      <td>43.862000</td>\n",
       "      <td>23822000.0</td>\n",
       "      <td>43.862000</td>\n",
       "      <td>-0.013938</td>\n",
       "    </tr>\n",
       "    <tr>\n",
       "      <th>2015-01-05</th>\n",
       "      <td>43.299999</td>\n",
       "      <td>41.431999</td>\n",
       "      <td>42.910000</td>\n",
       "      <td>42.018002</td>\n",
       "      <td>26842500.0</td>\n",
       "      <td>42.018002</td>\n",
       "      <td>-0.042041</td>\n",
       "    </tr>\n",
       "    <tr>\n",
       "      <th>2015-01-06</th>\n",
       "      <td>42.840000</td>\n",
       "      <td>40.841999</td>\n",
       "      <td>42.012001</td>\n",
       "      <td>42.256001</td>\n",
       "      <td>31309500.0</td>\n",
       "      <td>42.256001</td>\n",
       "      <td>0.005664</td>\n",
       "    </tr>\n",
       "    <tr>\n",
       "      <th>2015-01-07</th>\n",
       "      <td>42.956001</td>\n",
       "      <td>41.956001</td>\n",
       "      <td>42.669998</td>\n",
       "      <td>42.189999</td>\n",
       "      <td>14842000.0</td>\n",
       "      <td>42.189999</td>\n",
       "      <td>-0.001562</td>\n",
       "    </tr>\n",
       "  </tbody>\n",
       "</table>\n",
       "</div>"
      ],
      "text/plain": [
       "                 High        Low       Open      Close      Volume  Adj Close  \\\n",
       "Date                                                                            \n",
       "2014-12-31  45.136002  44.450001  44.618000  44.481998  11487500.0  44.481998   \n",
       "2015-01-02  44.650002  42.652000  44.574001  43.862000  23822000.0  43.862000   \n",
       "2015-01-05  43.299999  41.431999  42.910000  42.018002  26842500.0  42.018002   \n",
       "2015-01-06  42.840000  40.841999  42.012001  42.256001  31309500.0  42.256001   \n",
       "2015-01-07  42.956001  41.956001  42.669998  42.189999  14842000.0  42.189999   \n",
       "\n",
       "             Returns  \n",
       "Date                  \n",
       "2014-12-31  0.000000  \n",
       "2015-01-02 -0.013938  \n",
       "2015-01-05 -0.042041  \n",
       "2015-01-06  0.005664  \n",
       "2015-01-07 -0.001562  "
      ]
     },
     "execution_count": 15,
     "metadata": {},
     "output_type": "execute_result"
    }
   ],
   "source": [
    "# get the OHLCV data from Yahoo Finance into a Pandas DataFrame\n",
    "df = pdr.DataReader(TICKER, 'yahoo', start=START_DATE, end=END_DATE)\n",
    "\n",
    "# get the returns of the closing prices\n",
    "df['Returns'] = df['Close'].pct_change().fillna(0)\n",
    "\n",
    "df.head()"
   ]
  },
  {
   "cell_type": "code",
   "execution_count": 16,
   "id": "cfdd2d04",
   "metadata": {},
   "outputs": [
    {
     "name": "stdout",
     "output_type": "stream",
     "text": [
      "Average Returns\n",
      "0.002430870392458831\n"
     ]
    }
   ],
   "source": [
    "# get the mean of the returns\n",
    "average_returns = df['Returns'].mean()\n",
    "\n",
    "print('Average Returns')\n",
    "print(average_returns)"
   ]
  },
  {
   "cell_type": "code",
   "execution_count": 17,
   "id": "2257ab80",
   "metadata": {},
   "outputs": [
    {
     "name": "stdout",
     "output_type": "stream",
     "text": [
      "Downside\n",
      "Date\n",
      "2015-01-02   -0.013938\n",
      "2015-01-05   -0.042041\n",
      "2015-01-07   -0.001562\n",
      "2015-01-08   -0.001564\n",
      "2015-01-09   -0.018802\n",
      "                ...   \n",
      "2020-12-11   -0.027238\n",
      "2020-12-15   -0.010284\n",
      "2020-12-16   -0.016550\n",
      "2020-12-21   -0.064950\n",
      "2020-12-22   -0.014649\n",
      "Name: Returns, Length: 729, dtype: float64\n"
     ]
    }
   ],
   "source": [
    "# get the downside, return values lessthan zero\n",
    "downside = df['Returns'][df['Returns'] < 0].dropna()\n",
    "\n",
    "print('Downside')\n",
    "print(downside)"
   ]
  },
  {
   "cell_type": "code",
   "execution_count": 19,
   "id": "94f29ec8",
   "metadata": {},
   "outputs": [
    {
     "name": "stdout",
     "output_type": "stream",
     "text": [
      "Standard Deviation of the Downside\n",
      "0.02445497263556573\n"
     ]
    }
   ],
   "source": [
    "# get the standard deviation of the downside\n",
    "standard_deviation_downside = downside.std()\n",
    "\n",
    "print('Standard Deviation of the Downside')\n",
    "print(standard_deviation_downside)"
   ]
  },
  {
   "cell_type": "code",
   "execution_count": 20,
   "id": "a308e86a",
   "metadata": {},
   "outputs": [
    {
     "name": "stdout",
     "output_type": "stream",
     "text": [
      "Rate of Return\n",
      "0\n"
     ]
    }
   ],
   "source": [
    "# set the rate of return (ROR)\n",
    "# for now, we will set this to zero\n",
    "\n",
    "rate_of_return = 0\n",
    "\n",
    "print('Rate of Return')\n",
    "print(rate_of_return)"
   ]
  },
  {
   "cell_type": "code",
   "execution_count": 21,
   "id": "3ffe6d4c",
   "metadata": {},
   "outputs": [
    {
     "name": "stdout",
     "output_type": "stream",
     "text": [
      "Sortino Ratio\n",
      "0.09940188560765471\n"
     ]
    }
   ],
   "source": [
    "# get the sortino ratio\n",
    "sortino_ratio = ( average_returns - rate_of_return ) / standard_deviation_downside\n",
    "\n",
    "print('Sortino Ratio')\n",
    "print(sortino_ratio)"
   ]
  },
  {
   "cell_type": "code",
   "execution_count": null,
   "id": "f93f877f",
   "metadata": {},
   "outputs": [],
   "source": []
  }
 ],
 "metadata": {
  "kernelspec": {
   "display_name": "Python 3 (ipykernel)",
   "language": "python",
   "name": "python3"
  },
  "language_info": {
   "codemirror_mode": {
    "name": "ipython",
    "version": 3
   },
   "file_extension": ".py",
   "mimetype": "text/x-python",
   "name": "python",
   "nbconvert_exporter": "python",
   "pygments_lexer": "ipython3",
   "version": "3.9.6"
  }
 },
 "nbformat": 4,
 "nbformat_minor": 5
}
