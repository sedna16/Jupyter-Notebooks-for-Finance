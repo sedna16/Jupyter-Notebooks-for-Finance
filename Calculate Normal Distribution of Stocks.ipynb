{
 "cells": [
  {
   "cell_type": "code",
   "execution_count": 1,
   "id": "0437d8a6",
   "metadata": {},
   "outputs": [],
   "source": [
    "import numpy as np\n",
    "import pandas as pd\n",
    "from scipy.stats import norm\n",
    "import pandas_datareader.data as pdr\n",
    "import matplotlib.pyplot as plt"
   ]
  },
  {
   "cell_type": "code",
   "execution_count": 63,
   "id": "73ce973c",
   "metadata": {},
   "outputs": [],
   "source": [
    "START_DATE = '2015-1-1'\n",
    "END_DATE = '2019-1-1'"
   ]
  },
  {
   "cell_type": "code",
   "execution_count": 64,
   "id": "e3ba91a1",
   "metadata": {},
   "outputs": [],
   "source": [
    "TICKER = 'TSLA'"
   ]
  },
  {
   "cell_type": "code",
   "execution_count": 65,
   "id": "03f3099b",
   "metadata": {},
   "outputs": [
    {
     "data": {
      "text/html": [
       "<div>\n",
       "<style scoped>\n",
       "    .dataframe tbody tr th:only-of-type {\n",
       "        vertical-align: middle;\n",
       "    }\n",
       "\n",
       "    .dataframe tbody tr th {\n",
       "        vertical-align: top;\n",
       "    }\n",
       "\n",
       "    .dataframe thead th {\n",
       "        text-align: right;\n",
       "    }\n",
       "</style>\n",
       "<table border=\"1\" class=\"dataframe\">\n",
       "  <thead>\n",
       "    <tr style=\"text-align: right;\">\n",
       "      <th></th>\n",
       "      <th>High</th>\n",
       "      <th>Low</th>\n",
       "      <th>Open</th>\n",
       "      <th>Close</th>\n",
       "      <th>Volume</th>\n",
       "      <th>Adj Close</th>\n",
       "    </tr>\n",
       "    <tr>\n",
       "      <th>Date</th>\n",
       "      <th></th>\n",
       "      <th></th>\n",
       "      <th></th>\n",
       "      <th></th>\n",
       "      <th></th>\n",
       "      <th></th>\n",
       "    </tr>\n",
       "  </thead>\n",
       "  <tbody>\n",
       "    <tr>\n",
       "      <th>2014-12-31</th>\n",
       "      <td>45.136002</td>\n",
       "      <td>44.450001</td>\n",
       "      <td>44.618000</td>\n",
       "      <td>44.481998</td>\n",
       "      <td>11487500</td>\n",
       "      <td>44.481998</td>\n",
       "    </tr>\n",
       "    <tr>\n",
       "      <th>2015-01-02</th>\n",
       "      <td>44.650002</td>\n",
       "      <td>42.652000</td>\n",
       "      <td>44.574001</td>\n",
       "      <td>43.862000</td>\n",
       "      <td>23822000</td>\n",
       "      <td>43.862000</td>\n",
       "    </tr>\n",
       "    <tr>\n",
       "      <th>2015-01-05</th>\n",
       "      <td>43.299999</td>\n",
       "      <td>41.431999</td>\n",
       "      <td>42.910000</td>\n",
       "      <td>42.018002</td>\n",
       "      <td>26842500</td>\n",
       "      <td>42.018002</td>\n",
       "    </tr>\n",
       "    <tr>\n",
       "      <th>2015-01-06</th>\n",
       "      <td>42.840000</td>\n",
       "      <td>40.841999</td>\n",
       "      <td>42.012001</td>\n",
       "      <td>42.256001</td>\n",
       "      <td>31309500</td>\n",
       "      <td>42.256001</td>\n",
       "    </tr>\n",
       "    <tr>\n",
       "      <th>2015-01-07</th>\n",
       "      <td>42.956001</td>\n",
       "      <td>41.956001</td>\n",
       "      <td>42.669998</td>\n",
       "      <td>42.189999</td>\n",
       "      <td>14842000</td>\n",
       "      <td>42.189999</td>\n",
       "    </tr>\n",
       "  </tbody>\n",
       "</table>\n",
       "</div>"
      ],
      "text/plain": [
       "                 High        Low       Open      Close    Volume  Adj Close\n",
       "Date                                                                       \n",
       "2014-12-31  45.136002  44.450001  44.618000  44.481998  11487500  44.481998\n",
       "2015-01-02  44.650002  42.652000  44.574001  43.862000  23822000  43.862000\n",
       "2015-01-05  43.299999  41.431999  42.910000  42.018002  26842500  42.018002\n",
       "2015-01-06  42.840000  40.841999  42.012001  42.256001  31309500  42.256001\n",
       "2015-01-07  42.956001  41.956001  42.669998  42.189999  14842000  42.189999"
      ]
     },
     "execution_count": 65,
     "metadata": {},
     "output_type": "execute_result"
    }
   ],
   "source": [
    "df = pdr.DataReader(TICKER, 'yahoo', start=START_DATE, end=END_DATE)\n",
    "df.head()"
   ]
  },
  {
   "cell_type": "code",
   "execution_count": 66,
   "id": "82956649",
   "metadata": {},
   "outputs": [
    {
     "data": {
      "text/plain": [
       "Date\n",
       "2014-12-31    0.000000\n",
       "2015-01-02   -0.013938\n",
       "2015-01-05   -0.042041\n",
       "2015-01-06    0.005664\n",
       "2015-01-07   -0.001562\n",
       "                ...   \n",
       "2018-12-24   -0.076242\n",
       "2018-12-26    0.103930\n",
       "2018-12-27   -0.030544\n",
       "2018-12-28    0.056116\n",
       "2018-12-31   -0.003205\n",
       "Name: Returns, Length: 1007, dtype: float64"
      ]
     },
     "execution_count": 66,
     "metadata": {},
     "output_type": "execute_result"
    }
   ],
   "source": [
    "df['Returns'] = df['Close'].pct_change().fillna(0)\n",
    "df['Returns']"
   ]
  },
  {
   "cell_type": "code",
   "execution_count": 67,
   "id": "05411701",
   "metadata": {},
   "outputs": [
    {
     "data": {
      "text/plain": [
       "0.027569242280303254"
      ]
     },
     "execution_count": 67,
     "metadata": {},
     "output_type": "execute_result"
    }
   ],
   "source": [
    "stdev = df['Returns'].std()\n",
    "stdev"
   ]
  },
  {
   "cell_type": "code",
   "execution_count": 68,
   "id": "2aa3b43b",
   "metadata": {},
   "outputs": [
    {
     "data": {
      "text/plain": [
       "0.0007777552690359728"
      ]
     },
     "execution_count": 68,
     "metadata": {},
     "output_type": "execute_result"
    }
   ],
   "source": [
    "mean = df['Returns'].mean()\n",
    "mean"
   ]
  },
  {
   "cell_type": "code",
   "execution_count": 80,
   "id": "ca6aee9e",
   "metadata": {},
   "outputs": [
    {
     "data": {
      "text/plain": [
       "array([-1.39015395e-01, -1.27510189e-01, -1.16004983e-01, -1.04499777e-01,\n",
       "       -9.29945705e-02, -8.14893645e-02, -6.99841585e-02, -5.84789525e-02,\n",
       "       -4.69737465e-02, -3.54685405e-02, -2.39633345e-02, -1.24581285e-02,\n",
       "       -9.52922491e-04,  1.05522835e-02,  2.20574895e-02,  3.35626955e-02,\n",
       "        4.50679015e-02,  5.65731075e-02,  6.80783135e-02,  7.95835195e-02,\n",
       "        9.10887256e-02,  1.02593932e-01,  1.14099138e-01,  1.25604344e-01,\n",
       "        1.37109550e-01,  1.48614756e-01,  1.60119962e-01,  1.71625168e-01,\n",
       "        1.83130374e-01,  1.94635580e-01,  2.06140786e-01,  2.17645992e-01,\n",
       "        2.29151198e-01,  2.40656404e-01,  2.52161610e-01,  2.63666816e-01,\n",
       "        2.75172022e-01,  2.86677228e-01,  2.98182434e-01,  3.09687640e-01,\n",
       "        3.21192846e-01,  3.32698052e-01,  3.44203258e-01,  3.55708464e-01,\n",
       "        3.67213670e-01,  3.78718876e-01,  3.90224082e-01,  4.01729288e-01,\n",
       "        4.13234494e-01,  4.24739700e-01,  4.36244906e-01,  4.47750112e-01,\n",
       "        4.59255318e-01,  4.70760524e-01,  4.82265730e-01,  4.93770936e-01,\n",
       "        5.05276142e-01,  5.16781348e-01,  5.28286554e-01,  5.39791760e-01,\n",
       "        5.51296966e-01,  5.62802172e-01,  5.74307378e-01,  5.85812584e-01,\n",
       "        5.97317790e-01,  6.08822996e-01,  6.20328202e-01,  6.31833408e-01,\n",
       "        6.43338614e-01,  6.54843820e-01,  6.66349026e-01,  6.77854232e-01,\n",
       "        6.89359438e-01,  7.00864644e-01,  7.12369850e-01,  7.23875056e-01,\n",
       "        7.35380262e-01,  7.46885468e-01,  7.58390674e-01,  7.69895880e-01,\n",
       "        7.81401086e-01,  7.92906292e-01,  8.04411498e-01,  8.15916704e-01,\n",
       "        8.27421910e-01,  8.38927116e-01,  8.50432322e-01,  8.61937528e-01,\n",
       "        8.73442734e-01,  8.84947940e-01,  8.96453146e-01,  9.07958352e-01,\n",
       "        9.19463558e-01,  9.30968764e-01,  9.42473970e-01,  9.53979176e-01,\n",
       "        9.65484382e-01,  9.76989588e-01,  9.88494794e-01,  1.00000000e+00])"
      ]
     },
     "execution_count": 80,
     "metadata": {},
     "output_type": "execute_result"
    }
   ],
   "source": [
    "x = np.linspace(df['Returns'].min(), 1.0,100)\n",
    "x"
   ]
  },
  {
   "cell_type": "code",
   "execution_count": 81,
   "id": "a3b02b8a",
   "metadata": {},
   "outputs": [
    {
     "data": {
      "text/plain": [
       "array([3.77895738e-005, 2.87443989e-004, 1.83695856e-003, 9.86303044e-003,\n",
       "       4.44924455e-002, 1.68626983e-001, 5.36948646e-001, 1.43649236e+000,\n",
       "       3.22878243e+000, 6.09732197e+000, 9.67396174e+000, 1.28953903e+001,\n",
       "       1.44420720e+001, 1.35890597e+001, 1.07427186e+001, 7.13516270e+000,\n",
       "       3.98160754e+000, 1.86671453e+000, 7.35296087e-001, 2.43338872e-001,\n",
       "       6.76590062e-002, 1.58053686e-002, 3.10204812e-003, 5.11513760e-004,\n",
       "       7.08648709e-005, 8.24839724e-006, 8.06627502e-007, 6.62737235e-008,\n",
       "       4.57482627e-009, 2.65321674e-010, 1.29281309e-011, 5.29253383e-013,\n",
       "       1.82035643e-014, 5.26034358e-016, 1.27713462e-017, 2.60509841e-019,\n",
       "       4.46453754e-021, 6.42826412e-023, 7.77635064e-025, 7.90356166e-027,\n",
       "       6.74892724e-029, 4.84185227e-031, 2.91845642e-033, 1.47795012e-035,\n",
       "       6.28827076e-038, 2.24785129e-040, 6.75101091e-043, 1.70347173e-045,\n",
       "       3.61131974e-048, 6.43223408e-051, 9.62548515e-054, 1.21017536e-056,\n",
       "       1.27831790e-059, 1.13447342e-062, 8.45891511e-066, 5.29907295e-069,\n",
       "       2.78900966e-072, 1.23328948e-075, 4.58189282e-079, 1.43017675e-082,\n",
       "       3.75058824e-086, 8.26368877e-090, 1.52972514e-093, 2.37912766e-097,\n",
       "       3.10875844e-101, 3.41288062e-105, 3.14789404e-109, 2.43940552e-113,\n",
       "       1.58822778e-117, 8.68773294e-122, 3.99268479e-126, 1.54165955e-130,\n",
       "       5.00122989e-135, 1.36310731e-139, 3.12139094e-144, 6.00525113e-149,\n",
       "       9.70686678e-154, 1.31823201e-158, 1.50407512e-163, 1.44182347e-168,\n",
       "       1.16123346e-173, 7.85763553e-179, 4.46713532e-184, 2.13368953e-189,\n",
       "       8.56245363e-195, 2.88688928e-200, 8.17761972e-206, 1.94620500e-211,\n",
       "       3.89148306e-217, 6.53742312e-223, 9.22705126e-229, 1.09416838e-234,\n",
       "       1.09010988e-240, 9.12475647e-247, 6.41707590e-253, 3.79156023e-259,\n",
       "       1.88219073e-265, 7.85008195e-272, 2.75074061e-278, 8.09822758e-285])"
      ]
     },
     "execution_count": 81,
     "metadata": {},
     "output_type": "execute_result"
    }
   ],
   "source": [
    "nd = norm.pdf(x, mean, stdev)\n",
    "nd"
   ]
  },
  {
   "cell_type": "code",
   "execution_count": 82,
   "id": "41cd62ad",
   "metadata": {},
   "outputs": [
    {
     "data": {
      "image/png": "[encoded data removed]",
      "text/plain": [
       "<Figure size 432x288 with 1 Axes>"
      ]
     },
     "metadata": {
      "needs_background": "light"
     },
     "output_type": "display_data"
    }
   ],
   "source": [
    "plt.plot(x, nd)\n",
    "plt.show()"
   ]
  },
  {
   "cell_type": "code",
   "execution_count": 83,
   "id": "a4005fdb",
   "metadata": {},
   "outputs": [
    {
     "data": {
      "image/png": "[encoded data removed]",
      "text/plain": [
       "<Figure size 432x288 with 1 Axes>"
      ]
     },
     "metadata": {
      "needs_background": "light"
     },
     "output_type": "display_data"
    }
   ],
   "source": [
    "plt.plot(x, norm.pdf(x, 0.5, 0.2))\n",
    "plt.show()"
   ]
  },
  {
   "cell_type": "code",
   "execution_count": null,
   "id": "25b4b027",
   "metadata": {},
   "outputs": [],
   "source": []
  }
 ],
 "metadata": {
  "kernelspec": {
   "display_name": "Python 3 (ipykernel)",
   "language": "python",
   "name": "python3"
  },
  "language_info": {
   "codemirror_mode": {
    "name": "ipython",
    "version": 3
   },
   "file_extension": ".py",
   "mimetype": "text/x-python",
   "name": "python",
   "nbconvert_exporter": "python",
   "pygments_lexer": "ipython3",
   "version": "3.9.7"
  }
 },
 "nbformat": 4,
 "nbformat_minor": 5
}
