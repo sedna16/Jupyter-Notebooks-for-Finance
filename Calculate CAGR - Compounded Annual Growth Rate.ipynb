{
 "cells": [
  {
   "cell_type": "markdown",
   "id": "ff21a223",
   "metadata": {},
   "source": [
    "# How to Calculate Compounded Annual Growth Rate (CAGR)"
   ]
  },
  {
   "cell_type": "markdown",
   "id": "ca2e435e",
   "metadata": {},
   "source": [
    "## Equation\n",
    "\n",
    "$$\n",
    "\\Large CAGR = (\\frac{E}{S}) ^{(\\frac{1}{N})} - 1\n",
    "$$\n",
    "\n",
    "**WHERE**\n",
    "\n",
    "**S** = Starting balance\n",
    "\n",
    "**E** = Ending balance\n",
    "\n",
    "**N** = Number of years for your investment"
   ]
  },
  {
   "cell_type": "markdown",
   "id": "051a1e92",
   "metadata": {},
   "source": [
    "## Step-by-step Procedure\n",
    "\n",
    "1. Set the initial balance\n",
    "2. Set the ending balance\n",
    "3. Set the period of the investment\n",
    "4. Calculate the compounded annual growth rate usign the python code below"
   ]
  },
  {
   "cell_type": "markdown",
   "id": "31407c26",
   "metadata": {},
   "source": [
    "## 1 - Set the initial balance"
   ]
  },
  {
   "cell_type": "code",
   "execution_count": 3,
   "id": "fd6ec295",
   "metadata": {},
   "outputs": [],
   "source": [
    "first = 10000"
   ]
  },
  {
   "cell_type": "markdown",
   "id": "ba7742be",
   "metadata": {},
   "source": [
    "## 2 - Set the ending balance"
   ]
  },
  {
   "cell_type": "code",
   "execution_count": 7,
   "id": "f2d44c73",
   "metadata": {},
   "outputs": [],
   "source": [
    "last = 19000"
   ]
  },
  {
   "cell_type": "markdown",
   "id": "87db77ad",
   "metadata": {},
   "source": [
    "## 3 - Set the period of the investment\n",
    "*Ideally this number should be in years*"
   ]
  },
  {
   "cell_type": "code",
   "execution_count": 8,
   "id": "2f4252e7",
   "metadata": {},
   "outputs": [],
   "source": [
    "periods = 3"
   ]
  },
  {
   "cell_type": "markdown",
   "id": "04cdcafe",
   "metadata": {},
   "source": [
    "## 4 - Calculate the compounded annual growth rate usign the python code below"
   ]
  },
  {
   "cell_type": "code",
   "execution_count": 9,
   "id": "70e47da0",
   "metadata": {},
   "outputs": [
    {
     "data": {
      "text/plain": [
       "0.23856232963017088"
      ]
     },
     "execution_count": 9,
     "metadata": {},
     "output_type": "execute_result"
    }
   ],
   "source": [
    "cagr = (last/first)**(1/periods)-1\n",
    "cagr"
   ]
  },
  {
   "cell_type": "markdown",
   "id": "05f781f6",
   "metadata": {},
   "source": [
    "## Resources:\n",
    "\n",
    "1. https://feliperego.github.io/blog/2016/08/10/CAGR-Function-In-Python\n",
    "2. https://learn.financestrategists.com/finance-terms/cagr/"
   ]
  }
 ],
 "metadata": {
  "kernelspec": {
   "display_name": "Python 3 (ipykernel)",
   "language": "python",
   "name": "python3"
  },
  "language_info": {
   "codemirror_mode": {
    "name": "ipython",
    "version": 3
   },
   "file_extension": ".py",
   "mimetype": "text/x-python",
   "name": "python",
   "nbconvert_exporter": "python",
   "pygments_lexer": "ipython3",
   "version": "3.9.7"
  }
 },
 "nbformat": 4,
 "nbformat_minor": 5
}
