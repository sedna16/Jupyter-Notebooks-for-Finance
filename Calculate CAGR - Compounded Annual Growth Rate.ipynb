{
 "cells": [
  {
   "cell_type": "markdown",
   "id": "e6b13c7a",
   "metadata": {},
   "source": [
    "# How to Calculate Compounded Annual Growth Rate (CAGR)"
   ]
  },
  {
   "cell_type": "markdown",
   "id": "051365e7",
   "metadata": {},
   "source": [
    "## Equation\n",
    "\n",
    "$$\n",
    "\\Large CAGR = (\\frac{E}{S}) ^{(\\frac{1}{N})} - 1\n",
    "$$\n",
    "\n",
    "**WHERE**\n",
    "\n",
    "**S** = Starting balance\n",
    "\n",
    "**E** = Ending balance\n",
    "\n",
    "**N** = Number of years for your investment"
   ]
  },
  {
   "cell_type": "markdown",
   "id": "a9fcb391",
   "metadata": {},
   "source": [
    "## Step-by-step Procedure\n",
    "\n",
    "1. Set the initial balance\n",
    "2. Set the ending balance\n",
    "3. Set the period of the investment\n",
    "4. Calculate the compounded annual growth rate usign the python code below"
   ]
  },
  {
   "cell_type": "markdown",
   "id": "1f9cb21a",
   "metadata": {},
   "source": [
    "## 1 - Set the initial balance"
   ]
  },
  {
   "cell_type": "code",
   "execution_count": 3,
   "id": "7a23f047",
   "metadata": {},
   "outputs": [],
   "source": [
    "first = 10000"
   ]
  },
  {
   "cell_type": "markdown",
   "id": "330cf425",
   "metadata": {},
   "source": [
    "## 2 - Set the ending balance"
   ]
  },
  {
   "cell_type": "code",
   "execution_count": 7,
   "id": "9d5e1418",
   "metadata": {},
   "outputs": [],
   "source": [
    "last = 19000"
   ]
  },
  {
   "cell_type": "markdown",
   "id": "740d52fd",
   "metadata": {},
   "source": [
    "## 3 - Set the period of the investment\n",
    "*Ideally this number should be in years*"
   ]
  },
  {
   "cell_type": "code",
   "execution_count": 8,
   "id": "d222d129",
   "metadata": {},
   "outputs": [],
   "source": [
    "periods = 3"
   ]
  },
  {
   "cell_type": "markdown",
   "id": "1307603c",
   "metadata": {},
   "source": [
    "## 4 - Calculate the compounded annual growth rate usign the python code below"
   ]
  },
  {
   "cell_type": "code",
   "execution_count": 11,
   "id": "036c3b6d",
   "metadata": {},
   "outputs": [
    {
     "data": {
      "text/plain": [
       "0.23856232963017088"
      ]
     },
     "execution_count": 11,
     "metadata": {},
     "output_type": "execute_result"
    }
   ],
   "source": [
    "cagr = (last/first)**(1/periods)-1\n",
    "cagr"
   ]
  },
  {
   "cell_type": "markdown",
   "id": "ea5981e1",
   "metadata": {},
   "source": [
    "## Resources:\n",
    "\n",
    "1. https://feliperego.github.io/blog/2016/08/10/CAGR-Function-In-Python\n",
    "2. https://learn.financestrategists.com/finance-terms/cagr/"
   ]
  }
 ],
 "metadata": {
  "kernelspec": {
   "display_name": "Python 3 (ipykernel)",
   "language": "python",
   "name": "python3"
  },
  "language_info": {
   "codemirror_mode": {
    "name": "ipython",
    "version": 3
   },
   "file_extension": ".py",
   "mimetype": "text/x-python",
   "name": "python",
   "nbconvert_exporter": "python",
   "pygments_lexer": "ipython3",
   "version": "3.9.7"
  }
 },
 "nbformat": 4,
 "nbformat_minor": 5
}
