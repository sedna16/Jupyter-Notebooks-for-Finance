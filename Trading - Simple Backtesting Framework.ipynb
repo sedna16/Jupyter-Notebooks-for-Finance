{
 "cells": [
  {
   "cell_type": "markdown",
   "id": "e811145f",
   "metadata": {},
   "source": [
    "# Tutorial: How to Create Your Own Backtesting Framework for Trading"
   ]
  },
  {
   "cell_type": "markdown",
   "id": "6ab0cc9b",
   "metadata": {},
   "source": [
    "Steps:\n",
    "1. Import the necessary modules\n",
    "2. Set the contant variables\n",
    "3. Retrieve the OHLCV data of the ticker symbol from pandas-datareader\n",
    "4. Create a 'Returns' column by getting the percentage change of the closing prices\n",
    "5. Plot the chart showing the Returns\n",
    "6. Setup the Technical Indicator Columns\n",
    "7. Create a function that will check for Entry and Exit conditions\n",
    "8. Create the Signal column then apply the function for the Entry and Exit signals\n",
    "9. Create Signal Returns Column\n",
    "10. Plot both the Buy n Hold Returns & Signal Returns in the chart\n",
    "11. Create Balance Column\n",
    "12. Create Signal Balance Column\n",
    "13. Plot Buy N Hold, Signal Balance Columns in Chart"
   ]
  },
  {
   "cell_type": "markdown",
   "id": "856d2c74",
   "metadata": {},
   "source": [
    "## Step 1: Import the modules"
   ]
  },
  {
   "cell_type": "code",
   "execution_count": 2,
   "id": "d6312888",
   "metadata": {},
   "outputs": [],
   "source": [
    "import threading\n",
    "import numpy as np\n",
    "import pandas as pd\n",
    "import pandas_datareader.data as pdr\n",
    "import matplotlib.pyplot as plt"
   ]
  },
  {
   "cell_type": "markdown",
   "id": "38d4e135",
   "metadata": {},
   "source": [
    "## Step 2: Set the contant variables"
   ]
  },
  {
   "cell_type": "markdown",
   "id": "cae4114a",
   "metadata": {},
   "source": [
    "Set the Start & End date"
   ]
  },
  {
   "cell_type": "code",
   "execution_count": 3,
   "id": "0483fe74",
   "metadata": {},
   "outputs": [],
   "source": [
    "START_DATE = '2015-1-1'\n",
    "END_DATE = '2021-1-1'"
   ]
  },
  {
   "cell_type": "markdown",
   "id": "51973235",
   "metadata": {},
   "source": [
    "Set the ticker symbol"
   ]
  },
  {
   "cell_type": "code",
   "execution_count": 5,
   "id": "0cb75439",
   "metadata": {},
   "outputs": [],
   "source": [
    "TICKER = 'SPY'"
   ]
  },
  {
   "cell_type": "markdown",
   "id": "f825c81e",
   "metadata": {},
   "source": [
    "Set your desired balance of account"
   ]
  },
  {
   "cell_type": "code",
   "execution_count": 4,
   "id": "fb703fea",
   "metadata": {},
   "outputs": [],
   "source": [
    "BALANCE = 10000"
   ]
  },
  {
   "cell_type": "markdown",
   "id": "15f91b4c",
   "metadata": {},
   "source": [
    "Set the initial number of trades"
   ]
  },
  {
   "cell_type": "code",
   "execution_count": 79,
   "id": "75611628",
   "metadata": {},
   "outputs": [],
   "source": [
    "TRADE_COUNT = 0"
   ]
  },
  {
   "cell_type": "markdown",
   "id": "e9b5c1ed",
   "metadata": {},
   "source": [
    "## Step 3: Retrive the OHLCV data of the ticker symbol from pandas-datareader"
   ]
  },
  {
   "cell_type": "code",
   "execution_count": 6,
   "id": "12da770c",
   "metadata": {},
   "outputs": [
    {
     "data": {
      "text/html": [
       "<div>\n",
       "<style scoped>\n",
       "    .dataframe tbody tr th:only-of-type {\n",
       "        vertical-align: middle;\n",
       "    }\n",
       "\n",
       "    .dataframe tbody tr th {\n",
       "        vertical-align: top;\n",
       "    }\n",
       "\n",
       "    .dataframe thead th {\n",
       "        text-align: right;\n",
       "    }\n",
       "</style>\n",
       "<table border=\"1\" class=\"dataframe\">\n",
       "  <thead>\n",
       "    <tr style=\"text-align: right;\">\n",
       "      <th></th>\n",
       "      <th>High</th>\n",
       "      <th>Low</th>\n",
       "      <th>Open</th>\n",
       "      <th>Close</th>\n",
       "      <th>Volume</th>\n",
       "      <th>Adj Close</th>\n",
       "    </tr>\n",
       "    <tr>\n",
       "      <th>Date</th>\n",
       "      <th></th>\n",
       "      <th></th>\n",
       "      <th></th>\n",
       "      <th></th>\n",
       "      <th></th>\n",
       "      <th></th>\n",
       "    </tr>\n",
       "  </thead>\n",
       "  <tbody>\n",
       "    <tr>\n",
       "      <th>2014-12-31</th>\n",
       "      <td>208.190002</td>\n",
       "      <td>205.389999</td>\n",
       "      <td>207.990005</td>\n",
       "      <td>205.539993</td>\n",
       "      <td>130333800.0</td>\n",
       "      <td>181.653259</td>\n",
       "    </tr>\n",
       "    <tr>\n",
       "      <th>2015-01-02</th>\n",
       "      <td>206.880005</td>\n",
       "      <td>204.179993</td>\n",
       "      <td>206.380005</td>\n",
       "      <td>205.429993</td>\n",
       "      <td>121465900.0</td>\n",
       "      <td>181.556000</td>\n",
       "    </tr>\n",
       "    <tr>\n",
       "      <th>2015-01-05</th>\n",
       "      <td>204.369995</td>\n",
       "      <td>201.350006</td>\n",
       "      <td>204.169998</td>\n",
       "      <td>201.720001</td>\n",
       "      <td>169632600.0</td>\n",
       "      <td>178.277176</td>\n",
       "    </tr>\n",
       "    <tr>\n",
       "      <th>2015-01-06</th>\n",
       "      <td>202.720001</td>\n",
       "      <td>198.860001</td>\n",
       "      <td>202.089996</td>\n",
       "      <td>199.820007</td>\n",
       "      <td>209151400.0</td>\n",
       "      <td>176.598022</td>\n",
       "    </tr>\n",
       "    <tr>\n",
       "      <th>2015-01-07</th>\n",
       "      <td>202.720001</td>\n",
       "      <td>200.880005</td>\n",
       "      <td>201.419998</td>\n",
       "      <td>202.309998</td>\n",
       "      <td>125346700.0</td>\n",
       "      <td>178.798615</td>\n",
       "    </tr>\n",
       "  </tbody>\n",
       "</table>\n",
       "</div>"
      ],
      "text/plain": [
       "                  High         Low        Open       Close       Volume  \\\n",
       "Date                                                                      \n",
       "2014-12-31  208.190002  205.389999  207.990005  205.539993  130333800.0   \n",
       "2015-01-02  206.880005  204.179993  206.380005  205.429993  121465900.0   \n",
       "2015-01-05  204.369995  201.350006  204.169998  201.720001  169632600.0   \n",
       "2015-01-06  202.720001  198.860001  202.089996  199.820007  209151400.0   \n",
       "2015-01-07  202.720001  200.880005  201.419998  202.309998  125346700.0   \n",
       "\n",
       "             Adj Close  \n",
       "Date                    \n",
       "2014-12-31  181.653259  \n",
       "2015-01-02  181.556000  \n",
       "2015-01-05  178.277176  \n",
       "2015-01-06  176.598022  \n",
       "2015-01-07  178.798615  "
      ]
     },
     "execution_count": 6,
     "metadata": {},
     "output_type": "execute_result"
    }
   ],
   "source": [
    "df = pdr.DataReader(TICKER, 'yahoo', start=START_DATE, end=END_DATE)\n",
    "df.head()"
   ]
  },
  {
   "cell_type": "markdown",
   "id": "8c2b2a80",
   "metadata": {},
   "source": [
    "## Step 4: Create a 'Returns' column by getting the percentage change of the closing prices"
   ]
  },
  {
   "cell_type": "code",
   "execution_count": 7,
   "id": "01292e26",
   "metadata": {},
   "outputs": [
    {
     "data": {
      "text/plain": [
       "Date\n",
       "2014-12-31    0.000000\n",
       "2015-01-02   -0.000535\n",
       "2015-01-05   -0.018060\n",
       "2015-01-06   -0.009419\n",
       "2015-01-07    0.012461\n",
       "                ...   \n",
       "2020-12-24    0.003890\n",
       "2020-12-28    0.008591\n",
       "2020-12-29   -0.001908\n",
       "2020-12-30    0.001427\n",
       "2020-12-31    0.005081\n",
       "Name: Returns, Length: 1512, dtype: float64"
      ]
     },
     "execution_count": 7,
     "metadata": {},
     "output_type": "execute_result"
    }
   ],
   "source": [
    "df['Returns'] = df['Close'].pct_change().fillna(0)\n",
    "df['Returns']"
   ]
  },
  {
   "cell_type": "markdown",
   "id": "0394283b",
   "metadata": {},
   "source": [
    "## Step 5 - Plot the chart showing the Returns"
   ]
  },
  {
   "cell_type": "code",
   "execution_count": 69,
   "id": "d9f967bb",
   "metadata": {},
   "outputs": [
    {
     "data": {
      "image/png": "[encoded data removed]",
      "text/plain": [
       "<Figure size 576x360 with 1 Axes>"
      ]
     },
     "metadata": {
      "needs_background": "light"
     },
     "output_type": "display_data"
    }
   ],
   "source": [
    "fig1 = plt.figure()\n",
    "fig1.set_size_inches(8,5)\n",
    "fig1.suptitle('Returns')\n",
    "plt.plot(df['Returns'].cumsum(),color='blue',label='Returns')\n",
    "plt.grid(True,which='both')\n",
    "plt.legend()\n",
    "plt.ylabel('Returns (%)')\n",
    "plt.xlabel('Duration (Time)')\n",
    "plt.show()"
   ]
  },
  {
   "cell_type": "markdown",
   "id": "0bc7a7fd",
   "metadata": {},
   "source": [
    "## Step 6 - Setup the Technical Indicator Columns"
   ]
  },
  {
   "cell_type": "markdown",
   "id": "d9da5283",
   "metadata": {},
   "source": [
    "Moving Average 20-bar"
   ]
  },
  {
   "cell_type": "code",
   "execution_count": 9,
   "id": "64f96864",
   "metadata": {},
   "outputs": [
    {
     "data": {
      "text/plain": [
       "Date\n",
       "2014-12-31           NaN\n",
       "2015-01-02           NaN\n",
       "2015-01-05           NaN\n",
       "2015-01-06           NaN\n",
       "2015-01-07           NaN\n",
       "                 ...    \n",
       "2020-12-24    367.586501\n",
       "2020-12-28    368.011501\n",
       "2020-12-29    368.481500\n",
       "2020-12-30    368.780000\n",
       "2020-12-31    369.134500\n",
       "Name: ma20, Length: 1512, dtype: float64"
      ]
     },
     "execution_count": 9,
     "metadata": {},
     "output_type": "execute_result"
    }
   ],
   "source": [
    "df['ma20'] = df['Close'].rolling(20).mean().dropna()\n",
    "df['ma20']"
   ]
  },
  {
   "cell_type": "markdown",
   "id": "14c334ca",
   "metadata": {},
   "source": [
    "Moving Average 50-bar"
   ]
  },
  {
   "cell_type": "code",
   "execution_count": 78,
   "id": "baff1ef6",
   "metadata": {},
   "outputs": [
    {
     "data": {
      "text/plain": [
       "Date\n",
       "2014-12-31           NaN\n",
       "2015-01-02           NaN\n",
       "2015-01-05           NaN\n",
       "2015-01-06           NaN\n",
       "2015-01-07           NaN\n",
       "                 ...    \n",
       "2020-12-24    355.769802\n",
       "2020-12-28    356.263202\n",
       "2020-12-29    356.746602\n",
       "2020-12-30    357.346201\n",
       "2020-12-31    357.956201\n",
       "Name: ma50, Length: 1512, dtype: float64"
      ]
     },
     "execution_count": 78,
     "metadata": {},
     "output_type": "execute_result"
    }
   ],
   "source": [
    "df['ma50'] = df['Close'].rolling(50).mean().dropna()\n",
    "df['ma50']"
   ]
  },
  {
   "cell_type": "markdown",
   "id": "45aef6c3",
   "metadata": {},
   "source": [
    "## Step 7 - Create a function that will check for Entry and Exit conditions"
   ]
  },
  {
   "cell_type": "code",
   "execution_count": 24,
   "id": "af9db897",
   "metadata": {},
   "outputs": [],
   "source": [
    "def new_column(row):\n",
    "    if row['Close'] > row['ma20']:\n",
    "        if(row['ma20'] > row['ma50']):\n",
    "            return 1\n",
    "        else:\n",
    "            return 0\n",
    "    else:\n",
    "        return 0"
   ]
  },
  {
   "cell_type": "markdown",
   "id": "756d9786",
   "metadata": {},
   "source": [
    "## Step 8 - Create the Signal column then apply the function for the Entry and Exit signals\n",
    "* 0 - no position\n",
    "* 1 - long position\n",
    "* -1 - short position"
   ]
  },
  {
   "cell_type": "code",
   "execution_count": 25,
   "id": "96985938",
   "metadata": {},
   "outputs": [
    {
     "data": {
      "text/plain": [
       "Date\n",
       "2014-12-31    0\n",
       "2015-01-02    0\n",
       "2015-01-05    0\n",
       "2015-01-06    0\n",
       "2015-01-07    0\n",
       "             ..\n",
       "2020-12-24    1\n",
       "2020-12-28    1\n",
       "2020-12-29    1\n",
       "2020-12-30    1\n",
       "2020-12-31    1\n",
       "Name: Signal, Length: 1512, dtype: int64"
      ]
     },
     "execution_count": 25,
     "metadata": {},
     "output_type": "execute_result"
    }
   ],
   "source": [
    "df['Signal'] = df.apply(new_column, axis=1)\n",
    "df['Signal']"
   ]
  },
  {
   "cell_type": "markdown",
   "id": "b7393a94",
   "metadata": {},
   "source": [
    "## Step 9 - Create Signal Returns Column\n",
    "(get the Returns value if signal is long, set value as 0 if signal is none)"
   ]
  },
  {
   "cell_type": "code",
   "execution_count": 60,
   "id": "34a176f4",
   "metadata": {},
   "outputs": [
    {
     "data": {
      "text/plain": [
       "Date\n",
       "2014-12-31    0.000000\n",
       "2015-01-02    0.000000\n",
       "2015-01-05    0.000000\n",
       "2015-01-06    0.000000\n",
       "2015-01-07    0.000000\n",
       "                ...   \n",
       "2020-12-24    0.003890\n",
       "2020-12-28    0.008591\n",
       "2020-12-29   -0.001908\n",
       "2020-12-30    0.001427\n",
       "2020-12-31    0.005081\n",
       "Name: Signal Returns, Length: 1512, dtype: float64"
      ]
     },
     "execution_count": 60,
     "metadata": {},
     "output_type": "execute_result"
    }
   ],
   "source": [
    "df['Signal Returns'] = np.where(df['Signal'] == 1,  df['Returns'], 0)\n",
    "df['Signal Returns']"
   ]
  },
  {
   "cell_type": "markdown",
   "id": "1efc01c6",
   "metadata": {},
   "source": [
    "## Step 10 - Plot both the Buy n Hold Returns & Signal Returns in the chart"
   ]
  },
  {
   "cell_type": "code",
   "execution_count": 70,
   "id": "5d54f9e4",
   "metadata": {},
   "outputs": [
    {
     "data": {
      "image/png": "[encoded data removed]",
      "text/plain": [
       "<Figure size 576x360 with 1 Axes>"
      ]
     },
     "metadata": {
      "needs_background": "light"
     },
     "output_type": "display_data"
    }
   ],
   "source": [
    "fig2 = plt.figure()\n",
    "fig2.set_size_inches(8,5)\n",
    "fig2.suptitle('Returns Comparison')\n",
    "plt.plot(df['Returns'].cumsum(),color='red',label='Buy n Hold')\n",
    "plt.plot(df['Signal Returns'].cumsum(),color='blue',label='Signal')\n",
    "plt.grid(True,which='both')\n",
    "plt.legend()\n",
    "plt.ylabel('Returns (%)')\n",
    "plt.xlabel('Duration (Time)')\n",
    "plt.show()"
   ]
  },
  {
   "cell_type": "markdown",
   "id": "c288b72f",
   "metadata": {},
   "source": [
    "## Step 11 - Create Balance Column"
   ]
  },
  {
   "cell_type": "code",
   "execution_count": 102,
   "id": "9ac653a8",
   "metadata": {
    "scrolled": true
   },
   "outputs": [
    {
     "data": {
      "text/plain": [
       "Date\n",
       "2014-12-31    10000.000000\n",
       "2015-01-02     9994.648214\n",
       "2015-01-05     9814.051826\n",
       "2015-01-06     9719.862163\n",
       "2015-01-07     9844.473821\n",
       "                  ...     \n",
       "2020-12-24    16875.313424\n",
       "2020-12-28    16961.221647\n",
       "2020-12-29    16942.143754\n",
       "2020-12-30    16956.411745\n",
       "2020-12-31    17007.219958\n",
       "Name: Balance, Length: 1512, dtype: float64"
      ]
     },
     "execution_count": 102,
     "metadata": {},
     "output_type": "execute_result"
    }
   ],
   "source": [
    "df['r_cumsum'] = df['Returns'].cumsum()\n",
    "df['Balance'] = (BALANCE * df['r_cumsum']) + BALANCE\n",
    "df['Balance']"
   ]
  },
  {
   "cell_type": "markdown",
   "id": "b0c78990",
   "metadata": {},
   "source": [
    "## Step 12 - Create Signal Balance Column"
   ]
  },
  {
   "cell_type": "code",
   "execution_count": 72,
   "id": "8ff30b24",
   "metadata": {},
   "outputs": [
    {
     "data": {
      "text/plain": [
       "Date\n",
       "2014-12-31    10000.000000\n",
       "2015-01-02    10000.000000\n",
       "2015-01-05    10000.000000\n",
       "2015-01-06    10000.000000\n",
       "2015-01-07    10000.000000\n",
       "                  ...     \n",
       "2020-12-24    24270.213996\n",
       "2020-12-28    24356.122219\n",
       "2020-12-29    24337.044326\n",
       "2020-12-30    24351.312317\n",
       "2020-12-31    24402.120530\n",
       "Name: Signal Balance, Length: 1512, dtype: float64"
      ]
     },
     "execution_count": 72,
     "metadata": {},
     "output_type": "execute_result"
    }
   ],
   "source": [
    "df['sr_cumsum'] = df['Signal Returns'].cumsum()\n",
    "df['Signal Balance'] = (BALANCE * df['sr_cumsum']) + BALANCE\n",
    "df['Signal Balance']"
   ]
  },
  {
   "cell_type": "markdown",
   "id": "d3ff3517",
   "metadata": {},
   "source": [
    "## Step 13 - Plot Buy N Hold, Signal Balance Columns in Chart"
   ]
  },
  {
   "cell_type": "code",
   "execution_count": 103,
   "id": "5d70006b",
   "metadata": {},
   "outputs": [
    {
     "data": {
      "image/png": "[encoded data removed]",
      "text/plain": [
       "<Figure size 576x360 with 1 Axes>"
      ]
     },
     "metadata": {
      "needs_background": "light"
     },
     "output_type": "display_data"
    }
   ],
   "source": [
    "fig3 = plt.figure()\n",
    "fig3.set_size_inches(8,5)\n",
    "fig3.suptitle('Balance Comparison')\n",
    "plt.plot(df['Balance'],color='red',label='Buy n Hold')\n",
    "plt.plot(df['Signal Balance'],color='blue',label='Signal')\n",
    "plt.grid(True,which='both')\n",
    "plt.legend()\n",
    "plt.ylabel('Returns (amount)')\n",
    "plt.xlabel('Duration (Time)')\n",
    "plt.show()"
   ]
  },
  {
   "cell_type": "code",
   "execution_count": null,
   "id": "43fe4356",
   "metadata": {},
   "outputs": [],
   "source": []
  }
 ],
 "metadata": {
  "kernelspec": {
   "display_name": "Python 3 (ipykernel)",
   "language": "python",
   "name": "python3"
  },
  "language_info": {
   "codemirror_mode": {
    "name": "ipython",
    "version": 3
   },
   "file_extension": ".py",
   "mimetype": "text/x-python",
   "name": "python",
   "nbconvert_exporter": "python",
   "pygments_lexer": "ipython3",
   "version": "3.9.7"
  }
 },
 "nbformat": 4,
 "nbformat_minor": 5
}
