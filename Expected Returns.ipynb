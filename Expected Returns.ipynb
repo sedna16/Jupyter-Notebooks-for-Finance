{
 "cells": [
  {
   "cell_type": "markdown",
   "id": "566eccea",
   "metadata": {},
   "source": [
    "# Calculate Expected Returns of a Stock"
   ]
  },
  {
   "cell_type": "markdown",
   "id": "ba715f2c",
   "metadata": {},
   "source": [
    "## Equation"
   ]
  },
  {
   "cell_type": "markdown",
   "id": "8574abf2",
   "metadata": {},
   "source": [
    "## Step-by-step Procedure"
   ]
  },
  {
   "cell_type": "code",
   "execution_count": 2,
   "id": "0a2ee419",
   "metadata": {},
   "outputs": [],
   "source": [
    "import numpy as np\n",
    "import pandas as pd\n",
    "import pandas_datareader.data as pdr\n",
    "import matplotlib.pyplot as plt"
   ]
  },
  {
   "cell_type": "code",
   "execution_count": 4,
   "id": "e283add6",
   "metadata": {},
   "outputs": [],
   "source": [
    "START_DATE = '2018-1-1'\n",
    "END_DATE = '2019-1-1'\n",
    "TICKER = 'SPY'"
   ]
  },
  {
   "cell_type": "code",
   "execution_count": 5,
   "id": "f919df43",
   "metadata": {},
   "outputs": [
    {
     "data": {
      "text/html": [
       "<div>\n",
       "<style scoped>\n",
       "    .dataframe tbody tr th:only-of-type {\n",
       "        vertical-align: middle;\n",
       "    }\n",
       "\n",
       "    .dataframe tbody tr th {\n",
       "        vertical-align: top;\n",
       "    }\n",
       "\n",
       "    .dataframe thead th {\n",
       "        text-align: right;\n",
       "    }\n",
       "</style>\n",
       "<table border=\"1\" class=\"dataframe\">\n",
       "  <thead>\n",
       "    <tr style=\"text-align: right;\">\n",
       "      <th></th>\n",
       "      <th>High</th>\n",
       "      <th>Low</th>\n",
       "      <th>Open</th>\n",
       "      <th>Close</th>\n",
       "      <th>Volume</th>\n",
       "      <th>Adj Close</th>\n",
       "    </tr>\n",
       "    <tr>\n",
       "      <th>Date</th>\n",
       "      <th></th>\n",
       "      <th></th>\n",
       "      <th></th>\n",
       "      <th></th>\n",
       "      <th></th>\n",
       "      <th></th>\n",
       "    </tr>\n",
       "  </thead>\n",
       "  <tbody>\n",
       "    <tr>\n",
       "      <th>2018-01-02</th>\n",
       "      <td>268.809998</td>\n",
       "      <td>267.399994</td>\n",
       "      <td>267.839996</td>\n",
       "      <td>268.769989</td>\n",
       "      <td>86655700.0</td>\n",
       "      <td>251.650986</td>\n",
       "    </tr>\n",
       "    <tr>\n",
       "      <th>2018-01-03</th>\n",
       "      <td>270.640015</td>\n",
       "      <td>268.959991</td>\n",
       "      <td>268.959991</td>\n",
       "      <td>270.470001</td>\n",
       "      <td>90070400.0</td>\n",
       "      <td>253.242722</td>\n",
       "    </tr>\n",
       "    <tr>\n",
       "      <th>2018-01-04</th>\n",
       "      <td>272.160004</td>\n",
       "      <td>270.540009</td>\n",
       "      <td>271.200012</td>\n",
       "      <td>271.609985</td>\n",
       "      <td>80636400.0</td>\n",
       "      <td>254.310120</td>\n",
       "    </tr>\n",
       "    <tr>\n",
       "      <th>2018-01-05</th>\n",
       "      <td>273.559998</td>\n",
       "      <td>271.950012</td>\n",
       "      <td>272.510010</td>\n",
       "      <td>273.420013</td>\n",
       "      <td>83524000.0</td>\n",
       "      <td>256.004791</td>\n",
       "    </tr>\n",
       "    <tr>\n",
       "      <th>2018-01-08</th>\n",
       "      <td>274.100006</td>\n",
       "      <td>272.980011</td>\n",
       "      <td>273.309998</td>\n",
       "      <td>273.920013</td>\n",
       "      <td>57319200.0</td>\n",
       "      <td>256.473022</td>\n",
       "    </tr>\n",
       "  </tbody>\n",
       "</table>\n",
       "</div>"
      ],
      "text/plain": [
       "                  High         Low        Open       Close      Volume  \\\n",
       "Date                                                                     \n",
       "2018-01-02  268.809998  267.399994  267.839996  268.769989  86655700.0   \n",
       "2018-01-03  270.640015  268.959991  268.959991  270.470001  90070400.0   \n",
       "2018-01-04  272.160004  270.540009  271.200012  271.609985  80636400.0   \n",
       "2018-01-05  273.559998  271.950012  272.510010  273.420013  83524000.0   \n",
       "2018-01-08  274.100006  272.980011  273.309998  273.920013  57319200.0   \n",
       "\n",
       "             Adj Close  \n",
       "Date                    \n",
       "2018-01-02  251.650986  \n",
       "2018-01-03  253.242722  \n",
       "2018-01-04  254.310120  \n",
       "2018-01-05  256.004791  \n",
       "2018-01-08  256.473022  "
      ]
     },
     "execution_count": 5,
     "metadata": {},
     "output_type": "execute_result"
    }
   ],
   "source": [
    "df = pdr.DataReader(TICKER, 'yahoo', start=START_DATE, end=END_DATE)\n",
    "df.head()"
   ]
  },
  {
   "cell_type": "code",
   "execution_count": 6,
   "id": "87f6d46f",
   "metadata": {},
   "outputs": [
    {
     "data": {
      "text/plain": [
       "Date\n",
       "2018-01-02         NaN\n",
       "2018-01-03    0.006325\n",
       "2018-01-04    0.004215\n",
       "2018-01-05    0.006664\n",
       "2018-01-08    0.001829\n",
       "                ...   \n",
       "2018-12-24   -0.026423\n",
       "2018-12-26    0.050525\n",
       "2018-12-27    0.007677\n",
       "2018-12-28   -0.001290\n",
       "2018-12-31    0.008759\n",
       "Name: Returns, Length: 251, dtype: float64"
      ]
     },
     "execution_count": 6,
     "metadata": {},
     "output_type": "execute_result"
    }
   ],
   "source": [
    "df['Returns'] = df.Close.pct_change()\n",
    "df['Returns']"
   ]
  },
  {
   "cell_type": "code",
   "execution_count": 8,
   "id": "e6d5abcc",
   "metadata": {},
   "outputs": [
    {
     "data": {
      "text/plain": [
       "-0.00023248654202514808"
      ]
     },
     "execution_count": 8,
     "metadata": {},
     "output_type": "execute_result"
    }
   ],
   "source": [
    "annual_expected_return = df['Returns'].mean()\n",
    "annual_expected_return"
   ]
  },
  {
   "cell_type": "markdown",
   "id": "898a38e1",
   "metadata": {},
   "source": [
    "## Resources:\n",
    "\n",
    "1. https://www.youtube.com/watch?v=XElayIIG4ow\n",
    "2. https://www.wallstreetmojo.com/expected-return-formula/\n",
    "3. https://corporatefinanceinstitute.com/resources/knowledge/trading-investing/expected-return/"
   ]
  }
 ],
 "metadata": {
  "kernelspec": {
   "display_name": "Python 3 (ipykernel)",
   "language": "python",
   "name": "python3"
  },
  "language_info": {
   "codemirror_mode": {
    "name": "ipython",
    "version": 3
   },
   "file_extension": ".py",
   "mimetype": "text/x-python",
   "name": "python",
   "nbconvert_exporter": "python",
   "pygments_lexer": "ipython3",
   "version": "3.9.7"
  }
 },
 "nbformat": 4,
 "nbformat_minor": 5
}
