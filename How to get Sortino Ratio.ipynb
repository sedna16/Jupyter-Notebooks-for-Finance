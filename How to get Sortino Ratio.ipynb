{
 "cells": [
  {
   "cell_type": "markdown",
   "id": "908a84d8",
   "metadata": {},
   "source": [
    "# How to Calculate the Sortino Ratio of a Stock"
   ]
  },
  {
   "cell_type": "markdown",
   "id": "c0bb2606",
   "metadata": {},
   "source": [
    "## Equation\n",
    "\n",
    "$$\n",
    "\\Large Sortino Ratio = \\frac{ R_{P} - R_{f} }{\\sigma_{d}}\n",
    "$$\n",
    "\n",
    "**WHERE**\n",
    "\n",
    "$R_{P}$ = mean of the Return of Portfolio\n",
    "\n",
    "$R_{f}$ = risk-free rate or minimum acceptable rate of return\n",
    "\n",
    "$\\sigma_{d}$ = downside deviation, aka standard deviation of negative returns"
   ]
  },
  {
   "cell_type": "markdown",
   "id": "f5485c02",
   "metadata": {},
   "source": [
    "# *Notes:*\n",
    "\n",
    "1. Ideal number for Sortino Ratio is 2.0\n",
    "2. Good/achievable number would be 1.0"
   ]
  },
  {
   "cell_type": "markdown",
   "id": "a8fd85bf",
   "metadata": {},
   "source": [
    "## Step-by-step Procedure\n",
    "\n",
    "1. Import necessary modules\n",
    "2. Set the constant variables\n",
    "3. Get the OHLCV in a DataFrame and calculate the Returns in a new column\n",
    "4. Get the mean of the Returns\n",
    "5. Get the downside returns or negative returns\n",
    "6. Get the standard deviation of the downside returns\n",
    "7. Set the risk-free rate\n",
    "8. Get the Sortino Ratio"
   ]
  },
  {
   "cell_type": "markdown",
   "id": "b05e594d",
   "metadata": {},
   "source": [
    "## 1 - Import necessary modules"
   ]
  },
  {
   "cell_type": "code",
   "execution_count": 5,
   "id": "e7b779b5",
   "metadata": {},
   "outputs": [],
   "source": [
    "import numpy as np\n",
    "import pandas as pd\n",
    "import pandas_datareader.data as pdr"
   ]
  },
  {
   "cell_type": "markdown",
   "id": "a7cccdf8",
   "metadata": {},
   "source": [
    "## 2 - Set the constant variables"
   ]
  },
  {
   "cell_type": "code",
   "execution_count": 6,
   "id": "952c0ef6",
   "metadata": {},
   "outputs": [],
   "source": [
    "START_DATE = '2015-1-1'\n",
    "END_DATE = '2021-1-1'\n",
    "\n",
    "TICKER = 'TSLA'"
   ]
  },
  {
   "cell_type": "markdown",
   "id": "77638305",
   "metadata": {},
   "source": [
    "## 3 - Get the OHLCV in a DataFrame and calculate the Returns in a new column"
   ]
  },
  {
   "cell_type": "code",
   "execution_count": 7,
   "id": "f75b8fdc",
   "metadata": {},
   "outputs": [
    {
     "data": {
      "text/html": [
       "<div>\n",
       "<style scoped>\n",
       "    .dataframe tbody tr th:only-of-type {\n",
       "        vertical-align: middle;\n",
       "    }\n",
       "\n",
       "    .dataframe tbody tr th {\n",
       "        vertical-align: top;\n",
       "    }\n",
       "\n",
       "    .dataframe thead th {\n",
       "        text-align: right;\n",
       "    }\n",
       "</style>\n",
       "<table border=\"1\" class=\"dataframe\">\n",
       "  <thead>\n",
       "    <tr style=\"text-align: right;\">\n",
       "      <th></th>\n",
       "      <th>High</th>\n",
       "      <th>Low</th>\n",
       "      <th>Open</th>\n",
       "      <th>Close</th>\n",
       "      <th>Volume</th>\n",
       "      <th>Adj Close</th>\n",
       "      <th>Returns</th>\n",
       "    </tr>\n",
       "    <tr>\n",
       "      <th>Date</th>\n",
       "      <th></th>\n",
       "      <th></th>\n",
       "      <th></th>\n",
       "      <th></th>\n",
       "      <th></th>\n",
       "      <th></th>\n",
       "      <th></th>\n",
       "    </tr>\n",
       "  </thead>\n",
       "  <tbody>\n",
       "    <tr>\n",
       "      <th>2014-12-31</th>\n",
       "      <td>45.136002</td>\n",
       "      <td>44.450001</td>\n",
       "      <td>44.618000</td>\n",
       "      <td>44.481998</td>\n",
       "      <td>11487500.0</td>\n",
       "      <td>44.481998</td>\n",
       "      <td>0.000000</td>\n",
       "    </tr>\n",
       "    <tr>\n",
       "      <th>2015-01-02</th>\n",
       "      <td>44.650002</td>\n",
       "      <td>42.652000</td>\n",
       "      <td>44.574001</td>\n",
       "      <td>43.862000</td>\n",
       "      <td>23822000.0</td>\n",
       "      <td>43.862000</td>\n",
       "      <td>-0.013938</td>\n",
       "    </tr>\n",
       "    <tr>\n",
       "      <th>2015-01-05</th>\n",
       "      <td>43.299999</td>\n",
       "      <td>41.431999</td>\n",
       "      <td>42.910000</td>\n",
       "      <td>42.018002</td>\n",
       "      <td>26842500.0</td>\n",
       "      <td>42.018002</td>\n",
       "      <td>-0.042041</td>\n",
       "    </tr>\n",
       "    <tr>\n",
       "      <th>2015-01-06</th>\n",
       "      <td>42.840000</td>\n",
       "      <td>40.841999</td>\n",
       "      <td>42.012001</td>\n",
       "      <td>42.256001</td>\n",
       "      <td>31309500.0</td>\n",
       "      <td>42.256001</td>\n",
       "      <td>0.005664</td>\n",
       "    </tr>\n",
       "    <tr>\n",
       "      <th>2015-01-07</th>\n",
       "      <td>42.956001</td>\n",
       "      <td>41.956001</td>\n",
       "      <td>42.669998</td>\n",
       "      <td>42.189999</td>\n",
       "      <td>14842000.0</td>\n",
       "      <td>42.189999</td>\n",
       "      <td>-0.001562</td>\n",
       "    </tr>\n",
       "  </tbody>\n",
       "</table>\n",
       "</div>"
      ],
      "text/plain": [
       "                 High        Low       Open      Close      Volume  Adj Close  \\\n",
       "Date                                                                            \n",
       "2014-12-31  45.136002  44.450001  44.618000  44.481998  11487500.0  44.481998   \n",
       "2015-01-02  44.650002  42.652000  44.574001  43.862000  23822000.0  43.862000   \n",
       "2015-01-05  43.299999  41.431999  42.910000  42.018002  26842500.0  42.018002   \n",
       "2015-01-06  42.840000  40.841999  42.012001  42.256001  31309500.0  42.256001   \n",
       "2015-01-07  42.956001  41.956001  42.669998  42.189999  14842000.0  42.189999   \n",
       "\n",
       "             Returns  \n",
       "Date                  \n",
       "2014-12-31  0.000000  \n",
       "2015-01-02 -0.013938  \n",
       "2015-01-05 -0.042041  \n",
       "2015-01-06  0.005664  \n",
       "2015-01-07 -0.001562  "
      ]
     },
     "execution_count": 7,
     "metadata": {},
     "output_type": "execute_result"
    }
   ],
   "source": [
    "df = pdr.DataReader(TICKER, 'yahoo', start=START_DATE, end=END_DATE)\n",
    "df['Returns'] = df['Close'].pct_change().fillna(0)\n",
    "df.head()"
   ]
  },
  {
   "cell_type": "markdown",
   "id": "2dc140b4",
   "metadata": {},
   "source": [
    "## 4 - Get the mean of the Returns"
   ]
  },
  {
   "cell_type": "code",
   "execution_count": 10,
   "id": "cfdd2d04",
   "metadata": {},
   "outputs": [
    {
     "name": "stdout",
     "output_type": "stream",
     "text": [
      "Average Returns\n",
      "0.002430870392458831\n"
     ]
    }
   ],
   "source": [
    "average_returns = df['Returns'].mean()\n",
    "\n",
    "print('Average Returns')\n",
    "print(average_returns)"
   ]
  },
  {
   "cell_type": "markdown",
   "id": "44b8a66d",
   "metadata": {},
   "source": [
    "## 5 - Get the downside returns or negative returns"
   ]
  },
  {
   "cell_type": "code",
   "execution_count": 11,
   "id": "2257ab80",
   "metadata": {
    "scrolled": true
   },
   "outputs": [
    {
     "name": "stdout",
     "output_type": "stream",
     "text": [
      "Downside\n",
      "Date\n",
      "2015-01-02   -0.013938\n",
      "2015-01-05   -0.042041\n",
      "2015-01-07   -0.001562\n",
      "2015-01-08   -0.001564\n",
      "2015-01-09   -0.018802\n",
      "                ...   \n",
      "2020-12-11   -0.027238\n",
      "2020-12-15   -0.010284\n",
      "2020-12-16   -0.016550\n",
      "2020-12-21   -0.064950\n",
      "2020-12-22   -0.014649\n",
      "Name: Returns, Length: 729, dtype: float64\n"
     ]
    }
   ],
   "source": [
    "downside = df['Returns'][df['Returns'] < 0].dropna()\n",
    "\n",
    "print('Downside')\n",
    "print(downside)"
   ]
  },
  {
   "cell_type": "markdown",
   "id": "b573096a",
   "metadata": {},
   "source": [
    "## 6 - Get the standard deviation of the downside returns"
   ]
  },
  {
   "cell_type": "code",
   "execution_count": 12,
   "id": "94f29ec8",
   "metadata": {},
   "outputs": [
    {
     "name": "stdout",
     "output_type": "stream",
     "text": [
      "Standard Deviation of the Downside\n",
      "0.02445497263556573\n"
     ]
    }
   ],
   "source": [
    "standard_deviation_downside = downside.std()\n",
    "\n",
    "print('Standard Deviation of the Downside')\n",
    "print(standard_deviation_downside)"
   ]
  },
  {
   "cell_type": "markdown",
   "id": "ec9ad888",
   "metadata": {},
   "source": [
    "## 7 - Set the risk-free rate\n",
    "*(You can set this to anything you want, in this case we set it to zero)*"
   ]
  },
  {
   "cell_type": "code",
   "execution_count": 13,
   "id": "a308e86a",
   "metadata": {},
   "outputs": [
    {
     "name": "stdout",
     "output_type": "stream",
     "text": [
      "Risk Free Rate\n",
      "0\n"
     ]
    }
   ],
   "source": [
    "risk_free_rate = 0\n",
    "\n",
    "print('Risk Free Rate')\n",
    "print(risk_free_rate)"
   ]
  },
  {
   "cell_type": "markdown",
   "id": "f6317d5c",
   "metadata": {},
   "source": [
    "## 8 - Get the Sortino Ratio"
   ]
  },
  {
   "cell_type": "code",
   "execution_count": 15,
   "id": "3ffe6d4c",
   "metadata": {},
   "outputs": [
    {
     "name": "stdout",
     "output_type": "stream",
     "text": [
      "Sortino Ratio\n",
      "0.09940188560765471\n"
     ]
    }
   ],
   "source": [
    "sortino_ratio = ( average_returns - risk_free_rate ) / standard_deviation_downside\n",
    "\n",
    "print('Sortino Ratio')\n",
    "print(sortino_ratio)"
   ]
  },
  {
   "cell_type": "markdown",
   "id": "4acfb3e9",
   "metadata": {},
   "source": [
    "## Resources:\n",
    "\n",
    "1. https://www.wallstreetmojo.com/sortino-ratio/"
   ]
  }
 ],
 "metadata": {
  "kernelspec": {
   "display_name": "Python 3 (ipykernel)",
   "language": "python",
   "name": "python3"
  },
  "language_info": {
   "codemirror_mode": {
    "name": "ipython",
    "version": 3
   },
   "file_extension": ".py",
   "mimetype": "text/x-python",
   "name": "python",
   "nbconvert_exporter": "python",
   "pygments_lexer": "ipython3",
   "version": "3.9.7"
  }
 },
 "nbformat": 4,
 "nbformat_minor": 5
}
