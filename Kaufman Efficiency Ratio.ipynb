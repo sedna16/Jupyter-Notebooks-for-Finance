{
 "cells": [
  {
   "cell_type": "markdown",
   "id": "a3f25e7f",
   "metadata": {},
   "source": [
    "# Kaufman Efficiency Ratio"
   ]
  },
  {
   "cell_type": "markdown",
   "id": "0286d110",
   "metadata": {},
   "source": [
    "__Definition:__ It is the result of dividing the net change in price movement during n-periods by the sum of all bar-to-bar price changes during the same n-periods.\n",
    "\n",
    "__Uses:__ Used to filter out noises in the price movement."
   ]
  },
  {
   "cell_type": "markdown",
   "id": "af3fd811",
   "metadata": {},
   "source": [
    "## Equation\n",
    "\n",
    "$$\n",
    "\\Large KER = \\frac{Close_{n} - Close_{1}}{\\sum(Close_{n} - Close_{n-1})}\n",
    "$$\n",
    "\n",
    "**WHERE**\n",
    "\n",
    "**KER** = Kaufman Efficiency Ratio\n",
    "\n",
    "**n** = time series window\n",
    "\n",
    "**Close** = Closing price"
   ]
  },
  {
   "cell_type": "markdown",
   "id": "51e2083c",
   "metadata": {},
   "source": [
    "## Step-by-step Procedure\n",
    "\n",
    "1. Import the modules needed\n",
    "2. Set the variables\n",
    "3. Get the stock data\n",
    "4. Get the change in value in a new column\n",
    "5. Get the direction for the price\n",
    "6. Get the volatility\n",
    "7. Get the Kaufman Efficiency Ratio\n",
    "8. Plot the result"
   ]
  },
  {
   "cell_type": "markdown",
   "id": "83d84f32",
   "metadata": {},
   "source": [
    "## 1. Import the modules needed"
   ]
  },
  {
   "cell_type": "code",
   "execution_count": 11,
   "id": "2d7fe85a",
   "metadata": {},
   "outputs": [],
   "source": [
    "import numpy as np\n",
    "import pandas as pd\n",
    "import pandas_datareader.data as pdr\n",
    "import matplotlib.pyplot as plt"
   ]
  },
  {
   "cell_type": "markdown",
   "id": "56a46d3f",
   "metadata": {},
   "source": [
    "## 2. Set the variables"
   ]
  },
  {
   "cell_type": "code",
   "execution_count": 6,
   "id": "6eadfb1e",
   "metadata": {},
   "outputs": [],
   "source": [
    "START_DATE = '2020-1-1'\n",
    "END_DATE = '2021-1-1'\n",
    "TICKER = 'SPY'\n",
    "N = 10"
   ]
  },
  {
   "cell_type": "markdown",
   "id": "e37475bc",
   "metadata": {},
   "source": [
    "## 3. Get the stock data"
   ]
  },
  {
   "cell_type": "code",
   "execution_count": 3,
   "id": "8c5b387b",
   "metadata": {
    "scrolled": true
   },
   "outputs": [
    {
     "data": {
      "text/html": [
       "<div>\n",
       "<style scoped>\n",
       "    .dataframe tbody tr th:only-of-type {\n",
       "        vertical-align: middle;\n",
       "    }\n",
       "\n",
       "    .dataframe tbody tr th {\n",
       "        vertical-align: top;\n",
       "    }\n",
       "\n",
       "    .dataframe thead th {\n",
       "        text-align: right;\n",
       "    }\n",
       "</style>\n",
       "<table border=\"1\" class=\"dataframe\">\n",
       "  <thead>\n",
       "    <tr style=\"text-align: right;\">\n",
       "      <th></th>\n",
       "      <th>High</th>\n",
       "      <th>Low</th>\n",
       "      <th>Open</th>\n",
       "      <th>Close</th>\n",
       "      <th>Volume</th>\n",
       "      <th>Adj Close</th>\n",
       "    </tr>\n",
       "    <tr>\n",
       "      <th>Date</th>\n",
       "      <th></th>\n",
       "      <th></th>\n",
       "      <th></th>\n",
       "      <th></th>\n",
       "      <th></th>\n",
       "      <th></th>\n",
       "    </tr>\n",
       "  </thead>\n",
       "  <tbody>\n",
       "    <tr>\n",
       "      <th>2020-12-24</th>\n",
       "      <td>369.029999</td>\n",
       "      <td>367.450012</td>\n",
       "      <td>368.079987</td>\n",
       "      <td>369.000000</td>\n",
       "      <td>26457900.0</td>\n",
       "      <td>365.425323</td>\n",
       "    </tr>\n",
       "    <tr>\n",
       "      <th>2020-12-28</th>\n",
       "      <td>372.589996</td>\n",
       "      <td>371.070007</td>\n",
       "      <td>371.739990</td>\n",
       "      <td>372.170013</td>\n",
       "      <td>39000400.0</td>\n",
       "      <td>368.564636</td>\n",
       "    </tr>\n",
       "    <tr>\n",
       "      <th>2020-12-29</th>\n",
       "      <td>374.000000</td>\n",
       "      <td>370.829987</td>\n",
       "      <td>373.809998</td>\n",
       "      <td>371.459991</td>\n",
       "      <td>53680500.0</td>\n",
       "      <td>367.861481</td>\n",
       "    </tr>\n",
       "    <tr>\n",
       "      <th>2020-12-30</th>\n",
       "      <td>373.100006</td>\n",
       "      <td>371.570007</td>\n",
       "      <td>372.339996</td>\n",
       "      <td>371.989990</td>\n",
       "      <td>49455300.0</td>\n",
       "      <td>368.386353</td>\n",
       "    </tr>\n",
       "    <tr>\n",
       "      <th>2020-12-31</th>\n",
       "      <td>374.660004</td>\n",
       "      <td>371.230011</td>\n",
       "      <td>371.779999</td>\n",
       "      <td>373.880005</td>\n",
       "      <td>78520700.0</td>\n",
       "      <td>370.258057</td>\n",
       "    </tr>\n",
       "  </tbody>\n",
       "</table>\n",
       "</div>"
      ],
      "text/plain": [
       "                  High         Low        Open       Close      Volume  \\\n",
       "Date                                                                     \n",
       "2020-12-24  369.029999  367.450012  368.079987  369.000000  26457900.0   \n",
       "2020-12-28  372.589996  371.070007  371.739990  372.170013  39000400.0   \n",
       "2020-12-29  374.000000  370.829987  373.809998  371.459991  53680500.0   \n",
       "2020-12-30  373.100006  371.570007  372.339996  371.989990  49455300.0   \n",
       "2020-12-31  374.660004  371.230011  371.779999  373.880005  78520700.0   \n",
       "\n",
       "             Adj Close  \n",
       "Date                    \n",
       "2020-12-24  365.425323  \n",
       "2020-12-28  368.564636  \n",
       "2020-12-29  367.861481  \n",
       "2020-12-30  368.386353  \n",
       "2020-12-31  370.258057  "
      ]
     },
     "execution_count": 3,
     "metadata": {},
     "output_type": "execute_result"
    }
   ],
   "source": [
    "df = pdr.DataReader(TICKER, 'yahoo', start=START_DATE, end=END_DATE)\n",
    "df.tail()"
   ]
  },
  {
   "cell_type": "markdown",
   "id": "edd9b0b5",
   "metadata": {},
   "source": [
    "## 4. Get the change in value in a new column\n",
    "(current price minus the previous price)"
   ]
  },
  {
   "cell_type": "code",
   "execution_count": 5,
   "id": "48fefc1d",
   "metadata": {
    "scrolled": true
   },
   "outputs": [
    {
     "data": {
      "text/plain": [
       "Date\n",
       "2020-12-24    1.429993\n",
       "2020-12-28    3.170013\n",
       "2020-12-29    0.710022\n",
       "2020-12-30    0.529999\n",
       "2020-12-31    1.890015\n",
       "Name: Changes, dtype: float64"
      ]
     },
     "execution_count": 5,
     "metadata": {},
     "output_type": "execute_result"
    }
   ],
   "source": [
    "df['Changes'] = df['Close'].diff().abs()\n",
    "df['Changes'].tail()"
   ]
  },
  {
   "cell_type": "markdown",
   "id": "2d9bf69e",
   "metadata": {},
   "source": [
    "## 5. Get the direction for the price\n",
    "(current_price minus past_n_price)"
   ]
  },
  {
   "cell_type": "code",
   "execution_count": 7,
   "id": "ad571e1b",
   "metadata": {},
   "outputs": [
    {
     "data": {
      "text/plain": [
       "Date\n",
       "2020-12-24    2.269989\n",
       "2020-12-28    5.870026\n",
       "2020-12-29    6.799988\n",
       "2020-12-30    2.399994\n",
       "2020-12-31    3.709991\n",
       "Name: direction, dtype: float64"
      ]
     },
     "execution_count": 7,
     "metadata": {},
     "output_type": "execute_result"
    }
   ],
   "source": [
    "df['direction'] = df['Close'].diff(N).abs()\n",
    "df['direction'].tail()"
   ]
  },
  {
   "cell_type": "markdown",
   "id": "edfee70a",
   "metadata": {},
   "source": [
    "## 6. Get the volatility\n",
    "(sum up the changes within the N period)"
   ]
  },
  {
   "cell_type": "code",
   "execution_count": 8,
   "id": "0b5882fe",
   "metadata": {},
   "outputs": [
    {
     "data": {
      "text/plain": [
       "Date\n",
       "2020-12-24    16.410004\n",
       "2020-12-28    19.149994\n",
       "2020-12-29    18.220032\n",
       "2020-12-30    13.820038\n",
       "2020-12-31    15.130035\n",
       "Name: volatility, dtype: float64"
      ]
     },
     "execution_count": 8,
     "metadata": {},
     "output_type": "execute_result"
    }
   ],
   "source": [
    "df['volatility'] = df['Changes'].rolling(N).sum()\n",
    "df['volatility'].tail()"
   ]
  },
  {
   "cell_type": "markdown",
   "id": "c4a2de16",
   "metadata": {},
   "source": [
    "## 7. Get the Kaufman Efficiency Ratio\n",
    "(direction divided by volatility)"
   ]
  },
  {
   "cell_type": "code",
   "execution_count": 9,
   "id": "ab3f7bf6",
   "metadata": {},
   "outputs": [
    {
     "data": {
      "text/plain": [
       "Date\n",
       "2020-12-24    0.138330\n",
       "2020-12-28    0.306529\n",
       "2020-12-29    0.373215\n",
       "2020-12-30    0.173660\n",
       "2020-12-31    0.245207\n",
       "Name: ker, dtype: float64"
      ]
     },
     "execution_count": 9,
     "metadata": {},
     "output_type": "execute_result"
    }
   ],
   "source": [
    "df['ker'] = df['direction'] / df['volatility']\n",
    "df['ker'].tail()"
   ]
  },
  {
   "cell_type": "markdown",
   "id": "5a9b38ec",
   "metadata": {},
   "source": [
    "## 8. Plot the result"
   ]
  },
  {
   "cell_type": "code",
   "execution_count": 10,
   "id": "cfe6eac3",
   "metadata": {},
   "outputs": [
    {
     "data": {
      "image/png": "[encoded data removed]",
      "text/plain": [
       "<Figure size 576x360 with 1 Axes>"
      ]
     },
     "metadata": {
      "needs_background": "light"
     },
     "output_type": "display_data"
    }
   ],
   "source": [
    "fig1 = plt.figure()\n",
    "fig1.set_size_inches(8,5)\n",
    "fig1.suptitle('Kaufman Efficiency Ratio')\n",
    "plt.plot(df['ker'],color='blue',label='KER')\n",
    "plt.grid(True,which='both')\n",
    "plt.legend()\n",
    "plt.ylabel('Ratio (0 - 1.0)')\n",
    "plt.xlabel('Duration (Time)')\n",
    "plt.show()"
   ]
  },
  {
   "cell_type": "markdown",
   "id": "13ff8e0b",
   "metadata": {},
   "source": [
    "## Resources\n",
    "\n",
    "1. https://kaabar-sofien.medium.com/how-to-use-the-efficiency-ratio-in-trend-following-trading-558f7d14555\n",
    "2. https://www.marketvolume.com/technicalanalysis/efficiencyratio.asp"
   ]
  }
 ],
 "metadata": {
  "kernelspec": {
   "display_name": "Python 3 (ipykernel)",
   "language": "python",
   "name": "python3"
  },
  "language_info": {
   "codemirror_mode": {
    "name": "ipython",
    "version": 3
   },
   "file_extension": ".py",
   "mimetype": "text/x-python",
   "name": "python",
   "nbconvert_exporter": "python",
   "pygments_lexer": "ipython3",
   "version": "3.9.7"
  }
 },
 "nbformat": 4,
 "nbformat_minor": 5
}
