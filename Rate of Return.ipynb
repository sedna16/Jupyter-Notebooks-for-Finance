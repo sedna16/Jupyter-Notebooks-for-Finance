{
 "cells": [
  {
   "cell_type": "markdown",
   "id": "d89403dd",
   "metadata": {},
   "source": [
    "# Calculate Rate-of-Return of the Investment\n",
    "*Also called as Return-of-Investment (ROI)*"
   ]
  },
  {
   "cell_type": "markdown",
   "id": "225ae539",
   "metadata": {},
   "source": [
    "## Equation\n",
    "\n",
    "$$\n",
    "\\Large ror = \\frac{C - I}{I} x 100\n",
    "$$\n",
    "\n",
    "**WHERE**\n",
    "\n",
    "**ror** = Rate-of-Return\n",
    "\n",
    "**I** = Initial value\n",
    "\n",
    "**C** = Current calue"
   ]
  },
  {
   "cell_type": "markdown",
   "id": "c0141dac",
   "metadata": {},
   "source": [
    "## 1. Set the initial value"
   ]
  },
  {
   "cell_type": "code",
   "execution_count": 1,
   "id": "e85e45db",
   "metadata": {},
   "outputs": [],
   "source": [
    "I = 10000"
   ]
  },
  {
   "cell_type": "markdown",
   "id": "2e40a442",
   "metadata": {},
   "source": [
    "## 2. Set the current value"
   ]
  },
  {
   "cell_type": "code",
   "execution_count": 2,
   "id": "b2d8d366",
   "metadata": {},
   "outputs": [],
   "source": [
    "C = 25000"
   ]
  },
  {
   "cell_type": "markdown",
   "id": "4a731cba",
   "metadata": {},
   "source": [
    "## 3. Calculate the Rate-of-Return of the Investment"
   ]
  },
  {
   "cell_type": "code",
   "execution_count": 3,
   "id": "ed2e0de6",
   "metadata": {},
   "outputs": [
    {
     "data": {
      "text/plain": [
       "150.0"
      ]
     },
     "execution_count": 3,
     "metadata": {},
     "output_type": "execute_result"
    }
   ],
   "source": [
    "ror = ( (C - I) / I ) * 100\n",
    "ror"
   ]
  },
  {
   "cell_type": "markdown",
   "id": "6bf45403",
   "metadata": {},
   "source": [
    "## Resources:\n",
    "1. https://www.investopedia.com/terms/r/rateofreturn.asp"
   ]
  }
 ],
 "metadata": {
  "kernelspec": {
   "display_name": "Python 3 (ipykernel)",
   "language": "python",
   "name": "python3"
  },
  "language_info": {
   "codemirror_mode": {
    "name": "ipython",
    "version": 3
   },
   "file_extension": ".py",
   "mimetype": "text/x-python",
   "name": "python",
   "nbconvert_exporter": "python",
   "pygments_lexer": "ipython3",
   "version": "3.9.7"
  }
 },
 "nbformat": 4,
 "nbformat_minor": 5
}
