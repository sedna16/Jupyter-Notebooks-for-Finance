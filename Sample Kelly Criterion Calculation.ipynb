{
 "cells": [
  {
   "cell_type": "markdown",
   "id": "e8cf6450",
   "metadata": {},
   "source": [
    "# Sample Kelly Criterion Calculation\n",
    "\n",
    "**Definition** - Kelly Criterion is a process to determine the optimum position size of a trade in relation to your portfolio, it factors in risk and probabilities in the calculation.\n",
    "\n",
    "**Note** - Don't use the Kelly Criterion as it is, use the fractional version of it. Shown on the lower part."
   ]
  },
  {
   "cell_type": "markdown",
   "id": "c510adab",
   "metadata": {},
   "source": [
    "## Equation:\n",
    "\n",
    "$$\n",
    "\\Large KC = \\frac{\\epsilon(p) - (1-p)}{\\epsilon}\n",
    "$$\n",
    "\n",
    "**WHERE**\n",
    "\n",
    "**KC** = Kelly Criterion\n",
    "\n",
    "**$\\large \\epsilon $** = expected return\n",
    "\n",
    "**p** = probability of winning"
   ]
  },
  {
   "cell_type": "markdown",
   "id": "48660c6e",
   "metadata": {},
   "source": [
    "## Step-by-step procedure:\n",
    "\n",
    "1. Set the equity of the porfolio\n",
    "2. Set the expected return for every dollar risked\n",
    "3. Set the probability of winning\n",
    "4. Calculate the probability of losing\n",
    "5. Calculate for the Kelly Criterion\n",
    "6. Calculate the positions using the equity and Kelly Criterion\n",
    "7. Set the fraction size - 33%\n",
    "8. Calculate the Fractional Kelly Criterion value using the position size and fraction size\n",
    "9. Set the risk for the trade\n",
    "10. Calculate the Fractional Kelly Risk Size\n",
    "11. Calculate the Total Equity at Risk"
   ]
  },
  {
   "cell_type": "markdown",
   "id": "4889f1c7",
   "metadata": {},
   "source": [
    "## 1. Set the equity of the porfolio"
   ]
  },
  {
   "cell_type": "code",
   "execution_count": 55,
   "id": "671e4a53",
   "metadata": {},
   "outputs": [
    {
     "name": "stdout",
     "output_type": "stream",
     "text": [
      "Portfolio balance $20000\n"
     ]
    }
   ],
   "source": [
    "eq = 20000\n",
    "print('Portfolio balance $' + str(eq))"
   ]
  },
  {
   "cell_type": "markdown",
   "id": "143c6c15",
   "metadata": {},
   "source": [
    "## 2. Set the expected return for every dollar risked"
   ]
  },
  {
   "cell_type": "code",
   "execution_count": 53,
   "id": "72dfc933",
   "metadata": {},
   "outputs": [
    {
     "name": "stdout",
     "output_type": "stream",
     "text": [
      "Expected return $2.0\n"
     ]
    }
   ],
   "source": [
    "e_r = 2.0\n",
    "print('Expected return $' + str(e_r))"
   ]
  },
  {
   "cell_type": "markdown",
   "id": "70abdc6e",
   "metadata": {},
   "source": [
    "## 3. Set the probability of winning"
   ]
  },
  {
   "cell_type": "code",
   "execution_count": 49,
   "id": "0a19c110",
   "metadata": {},
   "outputs": [
    {
     "name": "stdout",
     "output_type": "stream",
     "text": [
      "Probability of winning(%) 55.00000000000001\n"
     ]
    }
   ],
   "source": [
    "p_w = 0.55\n",
    "print('Probability of winning(%) ' + str(p_w * 100))"
   ]
  },
  {
   "cell_type": "markdown",
   "id": "e06d6a18",
   "metadata": {},
   "source": [
    "## 4. Calculate the probability of losing"
   ]
  },
  {
   "cell_type": "code",
   "execution_count": 51,
   "id": "fc893d87",
   "metadata": {},
   "outputs": [
    {
     "name": "stdout",
     "output_type": "stream",
     "text": [
      "Probability of losing(%) 44.99999999999999\n"
     ]
    }
   ],
   "source": [
    "p_l = 1.0 - p_w\n",
    "print('Probability of losing(%) ' + str(p_l * 100))"
   ]
  },
  {
   "cell_type": "markdown",
   "id": "e786e080",
   "metadata": {},
   "source": [
    "## 5. Calculate for the Kelly Criterion"
   ]
  },
  {
   "cell_type": "code",
   "execution_count": 52,
   "id": "a12df718",
   "metadata": {
    "scrolled": true
   },
   "outputs": [
    {
     "name": "stdout",
     "output_type": "stream",
     "text": [
      "Kelly Criterion(%) 32.50000000000001\n"
     ]
    }
   ],
   "source": [
    "k_c = (e_r * p_w) - p_l\n",
    "k_c = k_c / e_r\n",
    "print('Kelly Criterion(%) ' + str(k_c * 100))"
   ]
  },
  {
   "cell_type": "markdown",
   "id": "0fb20f17",
   "metadata": {},
   "source": [
    "## 6. Calculate the positions using the equity and Kelly Criterion"
   ]
  },
  {
   "cell_type": "code",
   "execution_count": 40,
   "id": "83ac8337",
   "metadata": {
    "scrolled": true
   },
   "outputs": [
    {
     "name": "stdout",
     "output_type": "stream",
     "text": [
      "Kelly Criterion Position Size $6500.000000000001\n"
     ]
    }
   ],
   "source": [
    "p_s = eq * k_c\n",
    "print('Kelly Criterion Position Size $' + str(p_s))"
   ]
  },
  {
   "cell_type": "markdown",
   "id": "9e42a38d",
   "metadata": {},
   "source": [
    "## 7. Set the fraction size"
   ]
  },
  {
   "cell_type": "code",
   "execution_count": 48,
   "id": "58652e54",
   "metadata": {},
   "outputs": [
    {
     "name": "stdout",
     "output_type": "stream",
     "text": [
      "Fracton size(%) 33.0\n"
     ]
    }
   ],
   "source": [
    "f_s = 0.33\n",
    "print('Fracton size(%) ' + str(f_s * 100))"
   ]
  },
  {
   "cell_type": "markdown",
   "id": "0c7c3b80",
   "metadata": {},
   "source": [
    "## 8. Calculate the Fractional Kelly Criterion value using the position size and fraction size"
   ]
  },
  {
   "cell_type": "code",
   "execution_count": 42,
   "id": "1955c74b",
   "metadata": {
    "scrolled": false
   },
   "outputs": [
    {
     "name": "stdout",
     "output_type": "stream",
     "text": [
      "Fractional Kelly Criterion Position Size $2145.0000000000005\n"
     ]
    }
   ],
   "source": [
    "f_k = p_s * f_s\n",
    "print('Fractional Kelly Criterion Position Size $' + str(f_k))"
   ]
  },
  {
   "cell_type": "markdown",
   "id": "cf19e94f",
   "metadata": {},
   "source": [
    "## 9. Set the risk for the trade"
   ]
  },
  {
   "cell_type": "code",
   "execution_count": 46,
   "id": "5fb2a90d",
   "metadata": {},
   "outputs": [
    {
     "name": "stdout",
     "output_type": "stream",
     "text": [
      "Risk(%) 10.0\n"
     ]
    }
   ],
   "source": [
    "r = 0.1\n",
    "print('Risk(%) ' + str(r * 100))"
   ]
  },
  {
   "cell_type": "markdown",
   "id": "a7271078",
   "metadata": {},
   "source": [
    "## 10.Calculate the Fractional Kelly Risk Size"
   ]
  },
  {
   "cell_type": "code",
   "execution_count": 44,
   "id": "e9c42558",
   "metadata": {
    "scrolled": true
   },
   "outputs": [
    {
     "name": "stdout",
     "output_type": "stream",
     "text": [
      "Fractional Kelly Criterion Risk $214.50000000000006\n"
     ]
    }
   ],
   "source": [
    "k_r = r * f_k\n",
    "print('Fractional Kelly Criterion Risk $' + str(k_r))"
   ]
  },
  {
   "cell_type": "markdown",
   "id": "795c5bc6",
   "metadata": {},
   "source": [
    "## 11. Calculate the Total Equity at Risk"
   ]
  },
  {
   "cell_type": "code",
   "execution_count": 47,
   "id": "442b7b59",
   "metadata": {},
   "outputs": [
    {
     "name": "stdout",
     "output_type": "stream",
     "text": [
      "Total Equity at Risk(%) 1.0725000000000005\n"
     ]
    }
   ],
   "source": [
    "ter = k_r / eq\n",
    "print('Total Equity at Risk(%) ' + str(ter * 100))"
   ]
  },
  {
   "cell_type": "markdown",
   "id": "900955df",
   "metadata": {},
   "source": [
    "## Resources:\n",
    "\n",
    "1. https://nickyoder.com/kelly-criterion/\n",
    "2. https://www.investopedia.com/articles/trading/04/091504.asp *(has a different version than the one above)*"
   ]
  }
 ],
 "metadata": {
  "kernelspec": {
   "display_name": "Python 3 (ipykernel)",
   "language": "python",
   "name": "python3"
  },
  "language_info": {
   "codemirror_mode": {
    "name": "ipython",
    "version": 3
   },
   "file_extension": ".py",
   "mimetype": "text/x-python",
   "name": "python",
   "nbconvert_exporter": "python",
   "pygments_lexer": "ipython3",
   "version": "3.9.7"
  }
 },
 "nbformat": 4,
 "nbformat_minor": 5
}
