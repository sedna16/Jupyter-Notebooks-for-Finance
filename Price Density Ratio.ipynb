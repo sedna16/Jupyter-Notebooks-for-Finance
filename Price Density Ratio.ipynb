{
 "cells": [
  {
   "cell_type": "markdown",
   "id": "792617aa",
   "metadata": {},
   "source": [
    "# Calculate Price Density Ratio\n",
    "\n",
    "**Definition:** - It is the result of dividing the difference of the sum of the Highs and sum of the Lows by the difference of the highest High and lowest Low.\n",
    "\n",
    "**Uses:** Used to filter out noises in the price movement."
   ]
  },
  {
   "cell_type": "markdown",
   "id": "8f0e6b3d",
   "metadata": {},
   "source": [
    "## Equation\n",
    "\n",
    "$$\n",
    "\\Large PD = \\frac{\\sum High_{n} - \\sum Low_{n}}{Max(High_{n}) - Min(Low_{n})}\n",
    "$$\n",
    "\n",
    "**WHERE**\n",
    "\n",
    "**PD** = Price Density\n",
    "\n",
    "**n** = time series window\n",
    "\n",
    "**High** = High price of candlestick\n",
    "\n",
    "**Low** = Low price of candlestick\n",
    "\n",
    "**Max** = Highest value from the series\n",
    "\n",
    "**Min** = Lowest values from the series"
   ]
  },
  {
   "cell_type": "markdown",
   "id": "fcceb719",
   "metadata": {},
   "source": [
    "## Step-by-step Procedure\n",
    "\n",
    "1. Import the modules needed\n",
    "2. Set the variables\n",
    "3. Get the stock data of the ticker\n",
    "4. Get the sum of all the High\n",
    "5. Get the sum of all the Low\n",
    "6. Get the highest High\n",
    "7. Get the lowest low\n",
    "8. Calculate the Price Density Ratio"
   ]
  },
  {
   "cell_type": "markdown",
   "id": "70ad95b9",
   "metadata": {},
   "source": [
    "## 1. Import the modules needed"
   ]
  },
  {
   "cell_type": "code",
   "execution_count": 56,
   "id": "1226cfc8",
   "metadata": {},
   "outputs": [],
   "source": [
    "import numpy as np\n",
    "import pandas as pd\n",
    "import pandas_datareader.data as pdr\n",
    "import matplotlib.pyplot as plt"
   ]
  },
  {
   "cell_type": "markdown",
   "id": "4b63d37f",
   "metadata": {},
   "source": [
    "## 2. Set the variables"
   ]
  },
  {
   "cell_type": "code",
   "execution_count": 57,
   "id": "48bb1f5c",
   "metadata": {},
   "outputs": [],
   "source": [
    "START_DATE = '2020-1-1'\n",
    "END_DATE = '2021-1-1'\n",
    "TICKER = 'SPY'\n",
    "N = 10"
   ]
  },
  {
   "cell_type": "markdown",
   "id": "6818e08a",
   "metadata": {},
   "source": [
    "## 3. Get the stock data of the ticker"
   ]
  },
  {
   "cell_type": "code",
   "execution_count": 58,
   "id": "f505e08e",
   "metadata": {},
   "outputs": [
    {
     "data": {
      "text/html": [
       "<div>\n",
       "<style scoped>\n",
       "    .dataframe tbody tr th:only-of-type {\n",
       "        vertical-align: middle;\n",
       "    }\n",
       "\n",
       "    .dataframe tbody tr th {\n",
       "        vertical-align: top;\n",
       "    }\n",
       "\n",
       "    .dataframe thead th {\n",
       "        text-align: right;\n",
       "    }\n",
       "</style>\n",
       "<table border=\"1\" class=\"dataframe\">\n",
       "  <thead>\n",
       "    <tr style=\"text-align: right;\">\n",
       "      <th></th>\n",
       "      <th>High</th>\n",
       "      <th>Low</th>\n",
       "      <th>Open</th>\n",
       "      <th>Close</th>\n",
       "      <th>Volume</th>\n",
       "      <th>Adj Close</th>\n",
       "    </tr>\n",
       "    <tr>\n",
       "      <th>Date</th>\n",
       "      <th></th>\n",
       "      <th></th>\n",
       "      <th></th>\n",
       "      <th></th>\n",
       "      <th></th>\n",
       "      <th></th>\n",
       "    </tr>\n",
       "  </thead>\n",
       "  <tbody>\n",
       "    <tr>\n",
       "      <th>2020-12-24</th>\n",
       "      <td>369.029999</td>\n",
       "      <td>367.450012</td>\n",
       "      <td>368.079987</td>\n",
       "      <td>369.000000</td>\n",
       "      <td>26457900.0</td>\n",
       "      <td>365.425323</td>\n",
       "    </tr>\n",
       "    <tr>\n",
       "      <th>2020-12-28</th>\n",
       "      <td>372.589996</td>\n",
       "      <td>371.070007</td>\n",
       "      <td>371.739990</td>\n",
       "      <td>372.170013</td>\n",
       "      <td>39000400.0</td>\n",
       "      <td>368.564636</td>\n",
       "    </tr>\n",
       "    <tr>\n",
       "      <th>2020-12-29</th>\n",
       "      <td>374.000000</td>\n",
       "      <td>370.829987</td>\n",
       "      <td>373.809998</td>\n",
       "      <td>371.459991</td>\n",
       "      <td>53680500.0</td>\n",
       "      <td>367.861511</td>\n",
       "    </tr>\n",
       "    <tr>\n",
       "      <th>2020-12-30</th>\n",
       "      <td>373.100006</td>\n",
       "      <td>371.570007</td>\n",
       "      <td>372.339996</td>\n",
       "      <td>371.989990</td>\n",
       "      <td>49455300.0</td>\n",
       "      <td>368.386353</td>\n",
       "    </tr>\n",
       "    <tr>\n",
       "      <th>2020-12-31</th>\n",
       "      <td>374.660004</td>\n",
       "      <td>371.230011</td>\n",
       "      <td>371.779999</td>\n",
       "      <td>373.880005</td>\n",
       "      <td>78520700.0</td>\n",
       "      <td>370.258057</td>\n",
       "    </tr>\n",
       "  </tbody>\n",
       "</table>\n",
       "</div>"
      ],
      "text/plain": [
       "                  High         Low        Open       Close      Volume  \\\n",
       "Date                                                                     \n",
       "2020-12-24  369.029999  367.450012  368.079987  369.000000  26457900.0   \n",
       "2020-12-28  372.589996  371.070007  371.739990  372.170013  39000400.0   \n",
       "2020-12-29  374.000000  370.829987  373.809998  371.459991  53680500.0   \n",
       "2020-12-30  373.100006  371.570007  372.339996  371.989990  49455300.0   \n",
       "2020-12-31  374.660004  371.230011  371.779999  373.880005  78520700.0   \n",
       "\n",
       "             Adj Close  \n",
       "Date                    \n",
       "2020-12-24  365.425323  \n",
       "2020-12-28  368.564636  \n",
       "2020-12-29  367.861511  \n",
       "2020-12-30  368.386353  \n",
       "2020-12-31  370.258057  "
      ]
     },
     "execution_count": 58,
     "metadata": {},
     "output_type": "execute_result"
    }
   ],
   "source": [
    "df = pdr.DataReader(TICKER, 'yahoo', start=START_DATE, end=END_DATE)\n",
    "df.tail()"
   ]
  },
  {
   "cell_type": "markdown",
   "id": "70f8ead3",
   "metadata": {},
   "source": [
    "## 4. Get the sum of all the High"
   ]
  },
  {
   "cell_type": "code",
   "execution_count": 59,
   "id": "93d2e202",
   "metadata": {},
   "outputs": [
    {
     "data": {
      "text/plain": [
       "82272.99993896484"
      ]
     },
     "execution_count": 59,
     "metadata": {},
     "output_type": "execute_result"
    }
   ],
   "source": [
    "sum_high = df['High'].sum()\n",
    "sum_high"
   ]
  },
  {
   "cell_type": "markdown",
   "id": "fb5b0aad",
   "metadata": {},
   "source": [
    "## 5. Get the sum of all the Low"
   ]
  },
  {
   "cell_type": "code",
   "execution_count": 60,
   "id": "1967a603",
   "metadata": {},
   "outputs": [
    {
     "data": {
      "text/plain": [
       "80864.2300415039"
      ]
     },
     "execution_count": 60,
     "metadata": {},
     "output_type": "execute_result"
    }
   ],
   "source": [
    "sum_low = df['Low'].sum()\n",
    "sum_low"
   ]
  },
  {
   "cell_type": "markdown",
   "id": "1611fa9e",
   "metadata": {},
   "source": [
    "## 6. Get the highest High"
   ]
  },
  {
   "cell_type": "code",
   "execution_count": 61,
   "id": "cd2c8c56",
   "metadata": {},
   "outputs": [
    {
     "data": {
      "text/plain": [
       "378.4599914550781"
      ]
     },
     "execution_count": 61,
     "metadata": {},
     "output_type": "execute_result"
    }
   ],
   "source": [
    "max_high = df['High'].max()\n",
    "max_high"
   ]
  },
  {
   "cell_type": "markdown",
   "id": "62932536",
   "metadata": {},
   "source": [
    "## 7. Get the lowest low"
   ]
  },
  {
   "cell_type": "code",
   "execution_count": 62,
   "id": "4b3329e2",
   "metadata": {},
   "outputs": [
    {
     "data": {
      "text/plain": [
       "218.25999450683594"
      ]
     },
     "execution_count": 62,
     "metadata": {},
     "output_type": "execute_result"
    }
   ],
   "source": [
    "min_low = df['Low'].min()\n",
    "min_low"
   ]
  },
  {
   "cell_type": "markdown",
   "id": "506b9d30",
   "metadata": {},
   "source": [
    "## 8. Calculate the Price Density Ratio"
   ]
  },
  {
   "cell_type": "code",
   "execution_count": 63,
   "id": "8f5f073f",
   "metadata": {},
   "outputs": [
    {
     "data": {
      "text/plain": [
       "8.793819752169448"
      ]
     },
     "execution_count": 63,
     "metadata": {},
     "output_type": "execute_result"
    }
   ],
   "source": [
    "pdr = (sum_high - sum_low) / (max_high - min_low)\n",
    "pdr"
   ]
  },
  {
   "cell_type": "markdown",
   "id": "04430340",
   "metadata": {},
   "source": [
    "## Resources\n",
    "\n",
    "1. https://www.youtube.com/watch?v=kpFuB-cvW7g"
   ]
  }
 ],
 "metadata": {
  "kernelspec": {
   "display_name": "Python 3 (ipykernel)",
   "language": "python",
   "name": "python3"
  },
  "language_info": {
   "codemirror_mode": {
    "name": "ipython",
    "version": 3
   },
   "file_extension": ".py",
   "mimetype": "text/x-python",
   "name": "python",
   "nbconvert_exporter": "python",
   "pygments_lexer": "ipython3",
   "version": "3.9.7"
  }
 },
 "nbformat": 4,
 "nbformat_minor": 5
}
