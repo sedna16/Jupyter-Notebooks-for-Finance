{
 "cells": [
  {
   "cell_type": "code",
   "execution_count": 2,
   "id": "7c5805a7",
   "metadata": {},
   "outputs": [],
   "source": [
    "from scipy.stats import skew\n",
    "import numpy as np\n",
    "import pandas as pd\n",
    "import pandas_datareader.data as pdr\n",
    "import matplotlib.pyplot as plt"
   ]
  },
  {
   "cell_type": "code",
   "execution_count": 3,
   "id": "35dfe722",
   "metadata": {},
   "outputs": [],
   "source": [
    "START_DATE = '2019-1-1'\n",
    "END_DATE = '2021-1-1'"
   ]
  },
  {
   "cell_type": "code",
   "execution_count": 4,
   "id": "39d91fbc",
   "metadata": {},
   "outputs": [],
   "source": [
    "TICKER = 'TSLA'"
   ]
  },
  {
   "cell_type": "code",
   "execution_count": 5,
   "id": "129efab9",
   "metadata": {
    "scrolled": true
   },
   "outputs": [
    {
     "data": {
      "text/html": [
       "<div>\n",
       "<style scoped>\n",
       "    .dataframe tbody tr th:only-of-type {\n",
       "        vertical-align: middle;\n",
       "    }\n",
       "\n",
       "    .dataframe tbody tr th {\n",
       "        vertical-align: top;\n",
       "    }\n",
       "\n",
       "    .dataframe thead th {\n",
       "        text-align: right;\n",
       "    }\n",
       "</style>\n",
       "<table border=\"1\" class=\"dataframe\">\n",
       "  <thead>\n",
       "    <tr style=\"text-align: right;\">\n",
       "      <th></th>\n",
       "      <th>High</th>\n",
       "      <th>Low</th>\n",
       "      <th>Open</th>\n",
       "      <th>Close</th>\n",
       "      <th>Volume</th>\n",
       "      <th>Adj Close</th>\n",
       "    </tr>\n",
       "    <tr>\n",
       "      <th>Date</th>\n",
       "      <th></th>\n",
       "      <th></th>\n",
       "      <th></th>\n",
       "      <th></th>\n",
       "      <th></th>\n",
       "      <th></th>\n",
       "    </tr>\n",
       "  </thead>\n",
       "  <tbody>\n",
       "    <tr>\n",
       "      <th>2018-12-31</th>\n",
       "      <td>67.842003</td>\n",
       "      <td>65.052002</td>\n",
       "      <td>67.557999</td>\n",
       "      <td>66.559998</td>\n",
       "      <td>31511500.0</td>\n",
       "      <td>66.559998</td>\n",
       "    </tr>\n",
       "    <tr>\n",
       "      <th>2019-01-02</th>\n",
       "      <td>63.026001</td>\n",
       "      <td>59.759998</td>\n",
       "      <td>61.220001</td>\n",
       "      <td>62.023998</td>\n",
       "      <td>58293000.0</td>\n",
       "      <td>62.023998</td>\n",
       "    </tr>\n",
       "    <tr>\n",
       "      <th>2019-01-03</th>\n",
       "      <td>61.880001</td>\n",
       "      <td>59.476002</td>\n",
       "      <td>61.400002</td>\n",
       "      <td>60.071999</td>\n",
       "      <td>34826000.0</td>\n",
       "      <td>60.071999</td>\n",
       "    </tr>\n",
       "    <tr>\n",
       "      <th>2019-01-04</th>\n",
       "      <td>63.599998</td>\n",
       "      <td>60.546001</td>\n",
       "      <td>61.200001</td>\n",
       "      <td>63.537998</td>\n",
       "      <td>36970500.0</td>\n",
       "      <td>63.537998</td>\n",
       "    </tr>\n",
       "    <tr>\n",
       "      <th>2019-01-07</th>\n",
       "      <td>67.348000</td>\n",
       "      <td>63.549999</td>\n",
       "      <td>64.344002</td>\n",
       "      <td>66.991997</td>\n",
       "      <td>37756000.0</td>\n",
       "      <td>66.991997</td>\n",
       "    </tr>\n",
       "  </tbody>\n",
       "</table>\n",
       "</div>"
      ],
      "text/plain": [
       "                 High        Low       Open      Close      Volume  Adj Close\n",
       "Date                                                                         \n",
       "2018-12-31  67.842003  65.052002  67.557999  66.559998  31511500.0  66.559998\n",
       "2019-01-02  63.026001  59.759998  61.220001  62.023998  58293000.0  62.023998\n",
       "2019-01-03  61.880001  59.476002  61.400002  60.071999  34826000.0  60.071999\n",
       "2019-01-04  63.599998  60.546001  61.200001  63.537998  36970500.0  63.537998\n",
       "2019-01-07  67.348000  63.549999  64.344002  66.991997  37756000.0  66.991997"
      ]
     },
     "execution_count": 5,
     "metadata": {},
     "output_type": "execute_result"
    }
   ],
   "source": [
    "df = pdr.DataReader(TICKER, 'yahoo', start=START_DATE, end=END_DATE)\n",
    "df.head()"
   ]
  },
  {
   "cell_type": "code",
   "execution_count": 7,
   "id": "c3b1c262",
   "metadata": {},
   "outputs": [
    {
     "data": {
      "text/plain": [
       "Date\n",
       "2018-12-31         NaN\n",
       "2019-01-02   -0.068149\n",
       "2019-01-03   -0.031472\n",
       "2019-01-04    0.057697\n",
       "2019-01-07    0.054361\n",
       "                ...   \n",
       "2020-12-24    0.024444\n",
       "2020-12-28    0.002901\n",
       "2020-12-29    0.003465\n",
       "2020-12-30    0.043229\n",
       "2020-12-31    0.015674\n",
       "Name: Returns, Length: 506, dtype: float64"
      ]
     },
     "execution_count": 7,
     "metadata": {},
     "output_type": "execute_result"
    }
   ],
   "source": [
    "df['Returns'] = df['Close'].pct_change()\n",
    "df['Returns']"
   ]
  },
  {
   "cell_type": "code",
   "execution_count": 9,
   "id": "45fa487b",
   "metadata": {},
   "outputs": [
    {
     "name": "stdout",
     "output_type": "stream",
     "text": [
      "Skewness of the Returns -0.02966546888779888\n"
     ]
    }
   ],
   "source": [
    "s = skew(df['Returns'].dropna())\n",
    "print('Skewness of the Returns ' + str(s))"
   ]
  },
  {
   "cell_type": "code",
   "execution_count": null,
   "id": "04dad2eb",
   "metadata": {},
   "outputs": [],
   "source": []
  }
 ],
 "metadata": {
  "kernelspec": {
   "display_name": "Python 3 (ipykernel)",
   "language": "python",
   "name": "python3"
  },
  "language_info": {
   "codemirror_mode": {
    "name": "ipython",
    "version": 3
   },
   "file_extension": ".py",
   "mimetype": "text/x-python",
   "name": "python",
   "nbconvert_exporter": "python",
   "pygments_lexer": "ipython3",
   "version": "3.9.7"
  }
 },
 "nbformat": 4,
 "nbformat_minor": 5
}
