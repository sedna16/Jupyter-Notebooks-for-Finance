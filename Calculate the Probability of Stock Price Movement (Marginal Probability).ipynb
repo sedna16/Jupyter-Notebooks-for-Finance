{
 "cells": [
  {
   "cell_type": "markdown",
   "id": "ded44f83",
   "metadata": {},
   "source": [
    "# Calculate the Probability of Stock Price Movement (Marginal Probability)"
   ]
  },
  {
   "cell_type": "markdown",
   "id": "6166d3ca",
   "metadata": {},
   "source": [
    "## Equation\n",
    "\n",
    "$$\n",
    "\\Large mp = \\frac{\n",
    "(\\rho_{l} * \\nu_{l}) + (\\rho_{0} * \\nu_{0}) + (\\rho_{w} * \\nu_{w})\n",
    "}{cp}\n",
    "$$\n",
    "\n",
    "**WHERE**\n",
    "\n",
    "**mp** = marginal probability\n",
    "\n",
    "**L** = Last closing price\n",
    "\n",
    "**w** = win chance/price\n",
    "\n",
    "**l** = lose chance/price\n",
    "\n",
    "**0** = zero chance/price\n",
    "\n",
    "**$\\Large\\rho$** = simple probability that something can happen (percentages)\n",
    "\n",
    "**cp** = number of probabilities that something can happen\n",
    "\n",
    "**$\\Large\\nu$** = probable price values"
   ]
  },
  {
   "cell_type": "markdown",
   "id": "4b52eb70",
   "metadata": {},
   "source": [
    "## Step-by-step Procedure\n",
    "\n",
    "1. Import the necessary modules\n",
    "2. Set the dates and ticker symbol\n",
    "3. Get the stock data from Pandas Datareader\n",
    "4. Get the Returns in a new column\n",
    "5. Get the last Closing Price\n",
    "6. Get the standard deviation of the returns\n",
    "7. Get the row counts of the positive, negative and zero returns\n",
    "8. Get the simple probability for positive, negative and zero returns\n",
    "9. Get the price movement for positive & negative probability using the standard deviation\n",
    "10. Set the p & v arrays\n",
    "11. Get the cp or the number of things that may happen\n",
    "11. Get the upper portion of the marginal probability\n",
    "13. Get the probability by dividing the upper by cp"
   ]
  },
  {
   "cell_type": "markdown",
   "id": "122ef0e1",
   "metadata": {},
   "source": [
    "## 1. Import the necessary modules"
   ]
  },
  {
   "cell_type": "code",
   "execution_count": 2,
   "id": "b396ef76",
   "metadata": {},
   "outputs": [],
   "source": [
    "import numpy as np\n",
    "import pandas as pd\n",
    "import pandas_datareader.data as pdr\n",
    "import matplotlib.pyplot as plt"
   ]
  },
  {
   "cell_type": "markdown",
   "id": "c15d41b8",
   "metadata": {},
   "source": [
    "## 2. Set the dates and ticker symbol"
   ]
  },
  {
   "cell_type": "code",
   "execution_count": 5,
   "id": "5423138f",
   "metadata": {},
   "outputs": [],
   "source": [
    "START_DATE = '2018-1-1'\n",
    "END_DATE = '2019-1-1'\n",
    "TICKER = 'SPY'"
   ]
  },
  {
   "cell_type": "markdown",
   "id": "58fbb8f1",
   "metadata": {},
   "source": [
    "## 3. Get the stock data from Pandas Datareader"
   ]
  },
  {
   "cell_type": "code",
   "execution_count": 6,
   "id": "02e34ed2",
   "metadata": {},
   "outputs": [
    {
     "data": {
      "text/html": [
       "<div>\n",
       "<style scoped>\n",
       "    .dataframe tbody tr th:only-of-type {\n",
       "        vertical-align: middle;\n",
       "    }\n",
       "\n",
       "    .dataframe tbody tr th {\n",
       "        vertical-align: top;\n",
       "    }\n",
       "\n",
       "    .dataframe thead th {\n",
       "        text-align: right;\n",
       "    }\n",
       "</style>\n",
       "<table border=\"1\" class=\"dataframe\">\n",
       "  <thead>\n",
       "    <tr style=\"text-align: right;\">\n",
       "      <th></th>\n",
       "      <th>High</th>\n",
       "      <th>Low</th>\n",
       "      <th>Open</th>\n",
       "      <th>Close</th>\n",
       "      <th>Volume</th>\n",
       "      <th>Adj Close</th>\n",
       "    </tr>\n",
       "    <tr>\n",
       "      <th>Date</th>\n",
       "      <th></th>\n",
       "      <th></th>\n",
       "      <th></th>\n",
       "      <th></th>\n",
       "      <th></th>\n",
       "      <th></th>\n",
       "    </tr>\n",
       "  </thead>\n",
       "  <tbody>\n",
       "    <tr>\n",
       "      <th>2018-01-02</th>\n",
       "      <td>268.809998</td>\n",
       "      <td>267.399994</td>\n",
       "      <td>267.839996</td>\n",
       "      <td>268.769989</td>\n",
       "      <td>86655700.0</td>\n",
       "      <td>251.650986</td>\n",
       "    </tr>\n",
       "    <tr>\n",
       "      <th>2018-01-03</th>\n",
       "      <td>270.640015</td>\n",
       "      <td>268.959991</td>\n",
       "      <td>268.959991</td>\n",
       "      <td>270.470001</td>\n",
       "      <td>90070400.0</td>\n",
       "      <td>253.242691</td>\n",
       "    </tr>\n",
       "    <tr>\n",
       "      <th>2018-01-04</th>\n",
       "      <td>272.160004</td>\n",
       "      <td>270.540009</td>\n",
       "      <td>271.200012</td>\n",
       "      <td>271.609985</td>\n",
       "      <td>80636400.0</td>\n",
       "      <td>254.310135</td>\n",
       "    </tr>\n",
       "    <tr>\n",
       "      <th>2018-01-05</th>\n",
       "      <td>273.559998</td>\n",
       "      <td>271.950012</td>\n",
       "      <td>272.510010</td>\n",
       "      <td>273.420013</td>\n",
       "      <td>83524000.0</td>\n",
       "      <td>256.004852</td>\n",
       "    </tr>\n",
       "    <tr>\n",
       "      <th>2018-01-08</th>\n",
       "      <td>274.100006</td>\n",
       "      <td>272.980011</td>\n",
       "      <td>273.309998</td>\n",
       "      <td>273.920013</td>\n",
       "      <td>57319200.0</td>\n",
       "      <td>256.472992</td>\n",
       "    </tr>\n",
       "  </tbody>\n",
       "</table>\n",
       "</div>"
      ],
      "text/plain": [
       "                  High         Low        Open       Close      Volume  \\\n",
       "Date                                                                     \n",
       "2018-01-02  268.809998  267.399994  267.839996  268.769989  86655700.0   \n",
       "2018-01-03  270.640015  268.959991  268.959991  270.470001  90070400.0   \n",
       "2018-01-04  272.160004  270.540009  271.200012  271.609985  80636400.0   \n",
       "2018-01-05  273.559998  271.950012  272.510010  273.420013  83524000.0   \n",
       "2018-01-08  274.100006  272.980011  273.309998  273.920013  57319200.0   \n",
       "\n",
       "             Adj Close  \n",
       "Date                    \n",
       "2018-01-02  251.650986  \n",
       "2018-01-03  253.242691  \n",
       "2018-01-04  254.310135  \n",
       "2018-01-05  256.004852  \n",
       "2018-01-08  256.472992  "
      ]
     },
     "execution_count": 6,
     "metadata": {},
     "output_type": "execute_result"
    }
   ],
   "source": [
    "df = pdr.DataReader(TICKER, 'yahoo', start=START_DATE, end=END_DATE)\n",
    "df.head()"
   ]
  },
  {
   "cell_type": "markdown",
   "id": "7f8c7e81",
   "metadata": {},
   "source": [
    "## 4. Get the Returns in a new column"
   ]
  },
  {
   "cell_type": "code",
   "execution_count": 7,
   "id": "e9ac354f",
   "metadata": {
    "scrolled": false
   },
   "outputs": [
    {
     "data": {
      "text/plain": [
       "Date\n",
       "2018-01-02    0.000000\n",
       "2018-01-03    0.006325\n",
       "2018-01-04    0.004215\n",
       "2018-01-05    0.006664\n",
       "2018-01-08    0.001829\n",
       "                ...   \n",
       "2018-12-24   -0.026423\n",
       "2018-12-26    0.050525\n",
       "2018-12-27    0.007677\n",
       "2018-12-28   -0.001290\n",
       "2018-12-31    0.008759\n",
       "Name: Returns, Length: 251, dtype: float64"
      ]
     },
     "execution_count": 7,
     "metadata": {},
     "output_type": "execute_result"
    }
   ],
   "source": [
    "df['Returns'] = df.Close.pct_change().fillna(0)\n",
    "df['Returns']"
   ]
  },
  {
   "cell_type": "markdown",
   "id": "e64e75bc",
   "metadata": {},
   "source": [
    "## 5. Get the last Closing Price"
   ]
  },
  {
   "cell_type": "code",
   "execution_count": 8,
   "id": "71a576f6",
   "metadata": {},
   "outputs": [
    {
     "data": {
      "text/plain": [
       "249.9199981689453"
      ]
     },
     "execution_count": 8,
     "metadata": {},
     "output_type": "execute_result"
    }
   ],
   "source": [
    "last = df['Close'][-1]\n",
    "last"
   ]
  },
  {
   "cell_type": "markdown",
   "id": "7a88edea",
   "metadata": {},
   "source": [
    "## 6. Get the standard deviation of the returns"
   ]
  },
  {
   "cell_type": "code",
   "execution_count": 9,
   "id": "a3d9f0e0",
   "metadata": {},
   "outputs": [
    {
     "data": {
      "text/plain": [
       "0.010782741930460978"
      ]
     },
     "execution_count": 9,
     "metadata": {},
     "output_type": "execute_result"
    }
   ],
   "source": [
    "stdev = df['Returns'].std()\n",
    "stdev"
   ]
  },
  {
   "cell_type": "markdown",
   "id": "352c2244",
   "metadata": {},
   "source": [
    "## 7. Get the row counts of the positive, negative and zero returns"
   ]
  },
  {
   "cell_type": "code",
   "execution_count": 16,
   "id": "f3d19dbb",
   "metadata": {},
   "outputs": [
    {
     "name": "stdout",
     "output_type": "stream",
     "text": [
      "total_row = 251\n",
      "positive_row = 131\n",
      "negative_row = 117\n",
      "zero_row = 3\n"
     ]
    }
   ],
   "source": [
    "total_row = len(df['Returns'])\n",
    "print('total_row = ' + str(total_row))\n",
    "\n",
    "positive_row = len(df['Returns'][df['Returns'] > 0])\n",
    "print('positive_row = ' + str(positive_row))\n",
    "\n",
    "negative_row = len(df['Returns'][df['Returns'] < 0])\n",
    "print('negative_row = ' + str(negative_row))\n",
    "\n",
    "zero_row = len(df['Returns'][df['Returns'] == 0])\n",
    "print('zero_row = ' + str(zero_row))"
   ]
  },
  {
   "cell_type": "markdown",
   "id": "a62e8280",
   "metadata": {},
   "source": [
    "## 8. Get the simple probability for positive, negative and zero returns"
   ]
  },
  {
   "cell_type": "code",
   "execution_count": 22,
   "id": "2f19b01c",
   "metadata": {},
   "outputs": [
    {
     "name": "stdout",
     "output_type": "stream",
     "text": [
      "positive_prob = 0.5219123505976095\n",
      "negative_prob = 0.46613545816733065\n",
      "zero_prob = 0.01195219123505976\n",
      "total_prob = 1.0\n"
     ]
    }
   ],
   "source": [
    "positive_prob = positive_row / total_row\n",
    "print('positive_prob = ' + str(positive_prob))\n",
    "\n",
    "negative_prob = negative_row / total_row\n",
    "print('negative_prob = ' + str(negative_prob))\n",
    "\n",
    "zero_prob = zero_row / total_row\n",
    "print('zero_prob = ' + str(zero_prob))\n",
    "\n",
    "total_prob = positive_prob + negative_prob + zero_prob\n",
    "print('total_prob = ' + str(total_prob))"
   ]
  },
  {
   "cell_type": "markdown",
   "id": "7f6ca312",
   "metadata": {},
   "source": [
    "## 9. Get the price movement for positive & negative probability using the standard deviation"
   ]
  },
  {
   "cell_type": "code",
   "execution_count": 23,
   "id": "55cbaf78",
   "metadata": {},
   "outputs": [
    {
     "name": "stdout",
     "output_type": "stream",
     "text": [
      "Positive price movement = 252.61482101246233\n",
      "Negative price movement = 247.2251753254283\n"
     ]
    }
   ],
   "source": [
    "lose_price = last - (last * stdev)\n",
    "win_price = last + (last * stdev)\n",
    "print('Positive price movement = ' + str(win_price))\n",
    "print('Negative price movement = ' + str(lose_price))"
   ]
  },
  {
   "cell_type": "markdown",
   "id": "e104a730",
   "metadata": {},
   "source": [
    "## 10. Set the p & v arrays"
   ]
  },
  {
   "cell_type": "code",
   "execution_count": 26,
   "id": "f5296ba9",
   "metadata": {},
   "outputs": [
    {
     "name": "stdout",
     "output_type": "stream",
     "text": [
      "p = [0.46613545816733065, 0.01195219123505976, 0.5219123505976095]\n",
      "v = [247.2251753254283, 0.0, 252.61482101246233]\n"
     ]
    }
   ],
   "source": [
    "p = [negative_prob,zero_prob,positive_prob]\n",
    "print('p = ' + str(p))\n",
    "v = [lose_price,0.0,win_price]\n",
    "print('v = ' + str(v))"
   ]
  },
  {
   "cell_type": "markdown",
   "id": "458d066b",
   "metadata": {},
   "source": [
    "## 11. Get the cp or the number of things that may happen"
   ]
  },
  {
   "cell_type": "code",
   "execution_count": 28,
   "id": "225a4c97",
   "metadata": {
    "scrolled": true
   },
   "outputs": [
    {
     "data": {
      "text/plain": [
       "3"
      ]
     },
     "execution_count": 28,
     "metadata": {},
     "output_type": "execute_result"
    }
   ],
   "source": [
    "cp = len(p)\n",
    "cp"
   ]
  },
  {
   "cell_type": "markdown",
   "id": "0a9d7a0d",
   "metadata": {},
   "source": [
    "## 12. Get the upper portion of the marginal probability"
   ]
  },
  {
   "cell_type": "code",
   "execution_count": 34,
   "id": "9e5acaa8",
   "metadata": {},
   "outputs": [
    {
     "name": "stdout",
     "output_type": "stream",
     "text": [
      "Upper Fraction = 247.08321540122577\n"
     ]
    }
   ],
   "source": [
    "upper = upper.sum()\n",
    "print('Upper Fraction = ' + str(upper))"
   ]
  },
  {
   "cell_type": "markdown",
   "id": "b88d4ab8",
   "metadata": {},
   "source": [
    "## 13. Get the probability by dividing the upper by cp"
   ]
  },
  {
   "cell_type": "code",
   "execution_count": 33,
   "id": "5555a510",
   "metadata": {},
   "outputs": [
    {
     "name": "stdout",
     "output_type": "stream",
     "text": [
      "Marginal Probability = 82.3610718004086\n"
     ]
    }
   ],
   "source": [
    "mp = upper / cp\n",
    "print('Marginal Probability = ' + str(mp))"
   ]
  },
  {
   "cell_type": "markdown",
   "id": "1500a7b0",
   "metadata": {},
   "source": [
    "## Resources:\n",
    "\n",
    "1. https://www.youtube.com/watch?v=OmRpIB54svs (probability of lognormal distribution)\n",
    "2. https://www.youtube.com/watch?v=AUelOeUr5Gw (1:15)\n",
    "3. https://www.youtube.com/watch?v=lsOOpsn0-lU\n",
    "4. https://www.youtube.com/watch?v=UnzbuqgU2LE"
   ]
  }
 ],
 "metadata": {
  "kernelspec": {
   "display_name": "Python 3 (ipykernel)",
   "language": "python",
   "name": "python3"
  },
  "language_info": {
   "codemirror_mode": {
    "name": "ipython",
    "version": 3
   },
   "file_extension": ".py",
   "mimetype": "text/x-python",
   "name": "python",
   "nbconvert_exporter": "python",
   "pygments_lexer": "ipython3",
   "version": "3.9.7"
  }
 },
 "nbformat": 4,
 "nbformat_minor": 5
}
