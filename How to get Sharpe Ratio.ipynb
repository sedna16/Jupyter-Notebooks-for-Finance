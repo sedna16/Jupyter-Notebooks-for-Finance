{
 "cells": [
  {
   "cell_type": "code",
   "execution_count": 25,
   "id": "d65a426c-4392-4078-82dd-8621cc8f03b0",
   "metadata": {},
   "outputs": [],
   "source": [
    "# Notebook Tutorial: How To Get The Sharpe Ratio Of The Stock Returns\n",
    "\n",
    "# import the necessary modules\n",
    "import math\n",
    "import numpy as np\n",
    "import pandas as pd\n",
    "import pandas_datareader.data as pdr\n",
    "import matplotlib.pyplot as plt"
   ]
  },
  {
   "cell_type": "code",
   "execution_count": 4,
   "id": "f5fa4e10-f86b-4d93-bcb3-a5d15c627d2d",
   "metadata": {},
   "outputs": [],
   "source": [
    "START_DATE = '2015-1-1'\n",
    "END_DATE = '2021-1-1'\n",
    "TICKER = 'SPY'"
   ]
  },
  {
   "cell_type": "code",
   "execution_count": 8,
   "id": "2285350a-a38a-4f27-898e-14da03d8bf93",
   "metadata": {},
   "outputs": [
    {
     "data": {
      "text/html": [
       "<div>\n",
       "<style scoped>\n",
       "    .dataframe tbody tr th:only-of-type {\n",
       "        vertical-align: middle;\n",
       "    }\n",
       "\n",
       "    .dataframe tbody tr th {\n",
       "        vertical-align: top;\n",
       "    }\n",
       "\n",
       "    .dataframe thead th {\n",
       "        text-align: right;\n",
       "    }\n",
       "</style>\n",
       "<table border=\"1\" class=\"dataframe\">\n",
       "  <thead>\n",
       "    <tr style=\"text-align: right;\">\n",
       "      <th></th>\n",
       "      <th>High</th>\n",
       "      <th>Low</th>\n",
       "      <th>Open</th>\n",
       "      <th>Close</th>\n",
       "      <th>Volume</th>\n",
       "      <th>Adj Close</th>\n",
       "      <th>Returns</th>\n",
       "    </tr>\n",
       "    <tr>\n",
       "      <th>Date</th>\n",
       "      <th></th>\n",
       "      <th></th>\n",
       "      <th></th>\n",
       "      <th></th>\n",
       "      <th></th>\n",
       "      <th></th>\n",
       "      <th></th>\n",
       "    </tr>\n",
       "  </thead>\n",
       "  <tbody>\n",
       "    <tr>\n",
       "      <th>2014-12-31</th>\n",
       "      <td>208.190002</td>\n",
       "      <td>205.389999</td>\n",
       "      <td>207.990005</td>\n",
       "      <td>205.539993</td>\n",
       "      <td>130333800.0</td>\n",
       "      <td>181.653259</td>\n",
       "      <td>0.000000</td>\n",
       "    </tr>\n",
       "    <tr>\n",
       "      <th>2015-01-02</th>\n",
       "      <td>206.880005</td>\n",
       "      <td>204.179993</td>\n",
       "      <td>206.380005</td>\n",
       "      <td>205.429993</td>\n",
       "      <td>121465900.0</td>\n",
       "      <td>181.556000</td>\n",
       "      <td>-0.000535</td>\n",
       "    </tr>\n",
       "    <tr>\n",
       "      <th>2015-01-05</th>\n",
       "      <td>204.369995</td>\n",
       "      <td>201.350006</td>\n",
       "      <td>204.169998</td>\n",
       "      <td>201.720001</td>\n",
       "      <td>169632600.0</td>\n",
       "      <td>178.277176</td>\n",
       "      <td>-0.018060</td>\n",
       "    </tr>\n",
       "    <tr>\n",
       "      <th>2015-01-06</th>\n",
       "      <td>202.720001</td>\n",
       "      <td>198.860001</td>\n",
       "      <td>202.089996</td>\n",
       "      <td>199.820007</td>\n",
       "      <td>209151400.0</td>\n",
       "      <td>176.598022</td>\n",
       "      <td>-0.009419</td>\n",
       "    </tr>\n",
       "    <tr>\n",
       "      <th>2015-01-07</th>\n",
       "      <td>202.720001</td>\n",
       "      <td>200.880005</td>\n",
       "      <td>201.419998</td>\n",
       "      <td>202.309998</td>\n",
       "      <td>125346700.0</td>\n",
       "      <td>178.798615</td>\n",
       "      <td>0.012461</td>\n",
       "    </tr>\n",
       "  </tbody>\n",
       "</table>\n",
       "</div>"
      ],
      "text/plain": [
       "                  High         Low        Open       Close       Volume  \\\n",
       "Date                                                                      \n",
       "2014-12-31  208.190002  205.389999  207.990005  205.539993  130333800.0   \n",
       "2015-01-02  206.880005  204.179993  206.380005  205.429993  121465900.0   \n",
       "2015-01-05  204.369995  201.350006  204.169998  201.720001  169632600.0   \n",
       "2015-01-06  202.720001  198.860001  202.089996  199.820007  209151400.0   \n",
       "2015-01-07  202.720001  200.880005  201.419998  202.309998  125346700.0   \n",
       "\n",
       "             Adj Close   Returns  \n",
       "Date                              \n",
       "2014-12-31  181.653259  0.000000  \n",
       "2015-01-02  181.556000 -0.000535  \n",
       "2015-01-05  178.277176 -0.018060  \n",
       "2015-01-06  176.598022 -0.009419  \n",
       "2015-01-07  178.798615  0.012461  "
      ]
     },
     "execution_count": 8,
     "metadata": {},
     "output_type": "execute_result"
    }
   ],
   "source": [
    "# get the OHLCV data from Yahoo Finance into a Pandas DataFrame\n",
    "df = pdr.DataReader(TICKER, 'yahoo', start=START_DATE, end=END_DATE)\n",
    "\n",
    "# get the returns of the closing prices\n",
    "df['Returns'] = df['Close'].pct_change().fillna(0)\n",
    "\n",
    "df.head()"
   ]
  },
  {
   "cell_type": "code",
   "execution_count": 10,
   "id": "6d392fa0-95b3-4daf-a84b-72c92ab9c9e8",
   "metadata": {},
   "outputs": [
    {
     "name": "stdout",
     "output_type": "stream",
     "text": [
      "Average Returns\n",
      "0.0004634404733814084\n"
     ]
    }
   ],
   "source": [
    "# get the mean of the returns\n",
    "average_returns = df['Returns'].mean()\n",
    "\n",
    "print('Average Returns')\n",
    "print(average_returns)"
   ]
  },
  {
   "cell_type": "code",
   "execution_count": 11,
   "id": "30997b99-976a-4c00-a742-8ba3c65a8e7b",
   "metadata": {},
   "outputs": [
    {
     "name": "stdout",
     "output_type": "stream",
     "text": [
      "Volatility\n",
      "0.011599696874412601\n"
     ]
    }
   ],
   "source": [
    "# the the volatility, aka standard deviation\n",
    "standard_deviation = df['Returns'].std()\n",
    "\n",
    "print('Volatility')\n",
    "print(standard_deviation)"
   ]
  },
  {
   "cell_type": "code",
   "execution_count": 12,
   "id": "b42f6e85-d9af-4ea2-a382-09bdb75ea2d7",
   "metadata": {},
   "outputs": [
    {
     "name": "stdout",
     "output_type": "stream",
     "text": [
      "Risk Free Rate\n",
      "0\n"
     ]
    }
   ],
   "source": [
    "# get the risk-free rate, usually you can consider this as zero\n",
    "risk_free_rate = 0\n",
    "\n",
    "print('Risk Free Rate')\n",
    "print(risk_free_rate)"
   ]
  },
  {
   "cell_type": "code",
   "execution_count": 18,
   "id": "78113f8b-7d13-465c-af05-a3311bbd21ef",
   "metadata": {},
   "outputs": [
    {
     "name": "stdout",
     "output_type": "stream",
     "text": [
      "Sharpe Ratio\n",
      "0.03995280897414629\n"
     ]
    }
   ],
   "source": [
    "# get the sharpe ratio\n",
    "sharpe_ratio = (average_returns - risk_free_rate) / standard_deviation\n",
    "\n",
    "print('Sharpe Ratio')\n",
    "print(sharpe_ratio)"
   ]
  },
  {
   "cell_type": "code",
   "execution_count": 24,
   "id": "f7590ff6-d1f2-4977-ba24-c0adbb2d5799",
   "metadata": {},
   "outputs": [
    {
     "name": "stdout",
     "output_type": "stream",
     "text": [
      "Annual Window (252 trading days in a year)\n",
      "252\n"
     ]
    }
   ],
   "source": [
    "# set the annual_window as 252 (trading days in a year)\n",
    "annual_window = 252 \n",
    "\n",
    "print('Annual Window (252 trading days in a year)')\n",
    "print(annual_window)"
   ]
  },
  {
   "cell_type": "code",
   "execution_count": 26,
   "id": "f2845083-c796-499d-9cfa-f8bbf5e5dac7",
   "metadata": {},
   "outputs": [
    {
     "name": "stdout",
     "output_type": "stream",
     "text": [
      "Annualized Sharpe Ratio\n",
      "0.6342311803443642\n"
     ]
    }
   ],
   "source": [
    "#get the annualized sharpe ratio\n",
    "annualized_sharpe_ratio = sharpe_ratio * math.sqrt(annual_window)\n",
    "\n",
    "print('Annualized Sharpe Ratio')\n",
    "print(annualized_sharpe_ratio)"
   ]
  },
  {
   "cell_type": "code",
   "execution_count": null,
   "id": "c2c8cc26-f551-42a2-b8ba-f4714337a636",
   "metadata": {},
   "outputs": [],
   "source": []
  }
 ],
 "metadata": {
  "kernelspec": {
   "display_name": "Python 3 (ipykernel)",
   "language": "python",
   "name": "python3"
  },
  "language_info": {
   "codemirror_mode": {
    "name": "ipython",
    "version": 3
   },
   "file_extension": ".py",
   "mimetype": "text/x-python",
   "name": "python",
   "nbconvert_exporter": "python",
   "pygments_lexer": "ipython3",
   "version": "3.9.6"
  }
 },
 "nbformat": 4,
 "nbformat_minor": 5
}
