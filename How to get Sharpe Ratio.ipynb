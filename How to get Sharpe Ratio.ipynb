{
 "cells": [
  {
   "cell_type": "markdown",
   "id": "de79f377",
   "metadata": {},
   "source": [
    "# How to Calculate the Sharpe Ratio of a Stock"
   ]
  },
  {
   "cell_type": "markdown",
   "id": "88acaa5a",
   "metadata": {},
   "source": [
    "## Equation\n",
    "\n",
    "$$\n",
    "\\Large Sharpe Ratio = \\frac{ R_{P} - R_{f} }{\\sigma_{p}}\n",
    "$$\n",
    "\n",
    "**WHERE**\n",
    "\n",
    "$R_{P}$ = mean of the Return of Portfolio\n",
    "\n",
    "$R_{f}$ = risk-free rate\n",
    "\n",
    "$\\sigma_{p}$ = volatility, aka standard deviation of the returns"
   ]
  },
  {
   "cell_type": "markdown",
   "id": "e7311c37",
   "metadata": {},
   "source": [
    "## Step-by-step Procedure:\n",
    "\n",
    "1. Import the necessary modules\n",
    "2. Set the constant variables\n",
    "3. Get the OHLCV in a DataFrame and calculate the Returns in a new column\n",
    "4. Get the mean of the Returns\n",
    "5. Get the volatility, a.k.a. standard deviation\n",
    "6. Get the risk-free rate, usually you can consider this as zero\n",
    "7. Get the Sharpe Ratio\n",
    "8. set the annual_window as 252 (trading days in a year)\n",
    "9. get the Annualized Sharpe Ratio"
   ]
  },
  {
   "cell_type": "markdown",
   "id": "7541abc0",
   "metadata": {},
   "source": [
    "## 1 - Import the necessary modules"
   ]
  },
  {
   "cell_type": "code",
   "execution_count": 4,
   "id": "5c55d05b-9382-4179-a064-55c38b9f3e1e",
   "metadata": {},
   "outputs": [],
   "source": [
    "import math\n",
    "import numpy as np\n",
    "import pandas as pd\n",
    "import pandas_datareader.data as pdr"
   ]
  },
  {
   "cell_type": "markdown",
   "id": "ac689aea",
   "metadata": {},
   "source": [
    "## 2 - Set the constant variables"
   ]
  },
  {
   "cell_type": "code",
   "execution_count": 6,
   "id": "f5fa4e10-f86b-4d93-bcb3-a5d15c627d2d",
   "metadata": {},
   "outputs": [],
   "source": [
    "# set the starting date and ending date\n",
    "START_DATE = '2015-1-1'\n",
    "END_DATE = '2021-1-1'\n",
    "\n",
    "# set the ticker symbol\n",
    "TICKER = 'SPY'"
   ]
  },
  {
   "cell_type": "markdown",
   "id": "cd807591",
   "metadata": {},
   "source": [
    "## 3 - Get the OHLCV in a DataFrame and calculate the Returns in a new column"
   ]
  },
  {
   "cell_type": "code",
   "execution_count": 16,
   "id": "2285350a-a38a-4f27-898e-14da03d8bf93",
   "metadata": {},
   "outputs": [
    {
     "data": {
      "text/html": [
       "<div>\n",
       "<style scoped>\n",
       "    .dataframe tbody tr th:only-of-type {\n",
       "        vertical-align: middle;\n",
       "    }\n",
       "\n",
       "    .dataframe tbody tr th {\n",
       "        vertical-align: top;\n",
       "    }\n",
       "\n",
       "    .dataframe thead th {\n",
       "        text-align: right;\n",
       "    }\n",
       "</style>\n",
       "<table border=\"1\" class=\"dataframe\">\n",
       "  <thead>\n",
       "    <tr style=\"text-align: right;\">\n",
       "      <th></th>\n",
       "      <th>High</th>\n",
       "      <th>Low</th>\n",
       "      <th>Open</th>\n",
       "      <th>Close</th>\n",
       "      <th>Volume</th>\n",
       "      <th>Adj Close</th>\n",
       "      <th>Returns</th>\n",
       "    </tr>\n",
       "    <tr>\n",
       "      <th>Date</th>\n",
       "      <th></th>\n",
       "      <th></th>\n",
       "      <th></th>\n",
       "      <th></th>\n",
       "      <th></th>\n",
       "      <th></th>\n",
       "      <th></th>\n",
       "    </tr>\n",
       "  </thead>\n",
       "  <tbody>\n",
       "    <tr>\n",
       "      <th>2014-12-31</th>\n",
       "      <td>208.190002</td>\n",
       "      <td>205.389999</td>\n",
       "      <td>207.990005</td>\n",
       "      <td>205.539993</td>\n",
       "      <td>130333800.0</td>\n",
       "      <td>181.653259</td>\n",
       "      <td>0.000000</td>\n",
       "    </tr>\n",
       "    <tr>\n",
       "      <th>2015-01-02</th>\n",
       "      <td>206.880005</td>\n",
       "      <td>204.179993</td>\n",
       "      <td>206.380005</td>\n",
       "      <td>205.429993</td>\n",
       "      <td>121465900.0</td>\n",
       "      <td>181.556000</td>\n",
       "      <td>-0.000535</td>\n",
       "    </tr>\n",
       "    <tr>\n",
       "      <th>2015-01-05</th>\n",
       "      <td>204.369995</td>\n",
       "      <td>201.350006</td>\n",
       "      <td>204.169998</td>\n",
       "      <td>201.720001</td>\n",
       "      <td>169632600.0</td>\n",
       "      <td>178.277176</td>\n",
       "      <td>-0.018060</td>\n",
       "    </tr>\n",
       "    <tr>\n",
       "      <th>2015-01-06</th>\n",
       "      <td>202.720001</td>\n",
       "      <td>198.860001</td>\n",
       "      <td>202.089996</td>\n",
       "      <td>199.820007</td>\n",
       "      <td>209151400.0</td>\n",
       "      <td>176.598022</td>\n",
       "      <td>-0.009419</td>\n",
       "    </tr>\n",
       "    <tr>\n",
       "      <th>2015-01-07</th>\n",
       "      <td>202.720001</td>\n",
       "      <td>200.880005</td>\n",
       "      <td>201.419998</td>\n",
       "      <td>202.309998</td>\n",
       "      <td>125346700.0</td>\n",
       "      <td>178.798615</td>\n",
       "      <td>0.012461</td>\n",
       "    </tr>\n",
       "  </tbody>\n",
       "</table>\n",
       "</div>"
      ],
      "text/plain": [
       "                  High         Low        Open       Close       Volume  \\\n",
       "Date                                                                      \n",
       "2014-12-31  208.190002  205.389999  207.990005  205.539993  130333800.0   \n",
       "2015-01-02  206.880005  204.179993  206.380005  205.429993  121465900.0   \n",
       "2015-01-05  204.369995  201.350006  204.169998  201.720001  169632600.0   \n",
       "2015-01-06  202.720001  198.860001  202.089996  199.820007  209151400.0   \n",
       "2015-01-07  202.720001  200.880005  201.419998  202.309998  125346700.0   \n",
       "\n",
       "             Adj Close   Returns  \n",
       "Date                              \n",
       "2014-12-31  181.653259  0.000000  \n",
       "2015-01-02  181.556000 -0.000535  \n",
       "2015-01-05  178.277176 -0.018060  \n",
       "2015-01-06  176.598022 -0.009419  \n",
       "2015-01-07  178.798615  0.012461  "
      ]
     },
     "execution_count": 16,
     "metadata": {},
     "output_type": "execute_result"
    }
   ],
   "source": [
    "df = pdr.DataReader(TICKER, 'yahoo', start=START_DATE, end=END_DATE)\n",
    "df['Returns'] = df['Close'].pct_change().fillna(0)\n",
    "df.head()"
   ]
  },
  {
   "cell_type": "markdown",
   "id": "2cde67fd",
   "metadata": {},
   "source": [
    "## 4 - Get the mean of the Returns"
   ]
  },
  {
   "cell_type": "code",
   "execution_count": 8,
   "id": "6d392fa0-95b3-4daf-a84b-72c92ab9c9e8",
   "metadata": {},
   "outputs": [
    {
     "name": "stdout",
     "output_type": "stream",
     "text": [
      "Average Returns\n",
      "0.0004634404733814084\n"
     ]
    }
   ],
   "source": [
    "average_returns = df['Returns'].mean()\n",
    "\n",
    "print('Average Returns')\n",
    "print(average_returns)"
   ]
  },
  {
   "cell_type": "markdown",
   "id": "261e2dbe",
   "metadata": {},
   "source": [
    "## 5 - Get the volatility, a.k.a. standard deviation"
   ]
  },
  {
   "cell_type": "code",
   "execution_count": 11,
   "id": "30997b99-976a-4c00-a742-8ba3c65a8e7b",
   "metadata": {},
   "outputs": [
    {
     "name": "stdout",
     "output_type": "stream",
     "text": [
      "Volatility\n",
      "0.011599696874412601\n"
     ]
    }
   ],
   "source": [
    "standard_deviation = df['Returns'].std()\n",
    "\n",
    "print('Volatility')\n",
    "print(standard_deviation)"
   ]
  },
  {
   "cell_type": "markdown",
   "id": "44dc6b80",
   "metadata": {},
   "source": [
    "## 6 - Get the risk-free rate, usually you can consider this as zero"
   ]
  },
  {
   "cell_type": "code",
   "execution_count": 10,
   "id": "b42f6e85-d9af-4ea2-a382-09bdb75ea2d7",
   "metadata": {},
   "outputs": [
    {
     "name": "stdout",
     "output_type": "stream",
     "text": [
      "Risk Free Rate\n",
      "0\n"
     ]
    }
   ],
   "source": [
    "risk_free_rate = 0\n",
    "\n",
    "print('Risk Free Rate')\n",
    "print(risk_free_rate)"
   ]
  },
  {
   "cell_type": "markdown",
   "id": "66b95d5f",
   "metadata": {},
   "source": [
    "## 7 - Get the Sharpe Ratio"
   ]
  },
  {
   "cell_type": "code",
   "execution_count": 13,
   "id": "78113f8b-7d13-465c-af05-a3311bbd21ef",
   "metadata": {},
   "outputs": [
    {
     "name": "stdout",
     "output_type": "stream",
     "text": [
      "Sharpe Ratio\n",
      "0.03995280897414629\n"
     ]
    }
   ],
   "source": [
    "sharpe_ratio = (average_returns - risk_free_rate) / standard_deviation\n",
    "\n",
    "print('Sharpe Ratio')\n",
    "print(sharpe_ratio)"
   ]
  },
  {
   "cell_type": "markdown",
   "id": "371e9108",
   "metadata": {},
   "source": [
    "## 8 - set the annual_window as 252 (trading days in a year)"
   ]
  },
  {
   "cell_type": "code",
   "execution_count": 14,
   "id": "f7590ff6-d1f2-4977-ba24-c0adbb2d5799",
   "metadata": {},
   "outputs": [
    {
     "name": "stdout",
     "output_type": "stream",
     "text": [
      "Annual Window (252 trading days in a year)\n",
      "252\n"
     ]
    }
   ],
   "source": [
    "annual_window = 252 \n",
    "\n",
    "print('Annual Window (252 trading days in a year)')\n",
    "print(annual_window)"
   ]
  },
  {
   "cell_type": "markdown",
   "id": "3b350f36",
   "metadata": {},
   "source": [
    "## 9 - get the Annualized Sharpe Ratio"
   ]
  },
  {
   "cell_type": "code",
   "execution_count": 15,
   "id": "f2845083-c796-499d-9cfa-f8bbf5e5dac7",
   "metadata": {},
   "outputs": [
    {
     "name": "stdout",
     "output_type": "stream",
     "text": [
      "Annualized Sharpe Ratio\n",
      "0.6342311803443642\n"
     ]
    }
   ],
   "source": [
    "annualized_sharpe_ratio = sharpe_ratio * math.sqrt(annual_window)\n",
    "\n",
    "print('Annualized Sharpe Ratio')\n",
    "print(annualized_sharpe_ratio)"
   ]
  },
  {
   "cell_type": "markdown",
   "id": "69347137",
   "metadata": {},
   "source": [
    "## Resources:\n",
    "\n",
    "1. https://www.investopedia.com/terms/s/sharperatio.asp"
   ]
  }
 ],
 "metadata": {
  "kernelspec": {
   "display_name": "Python 3 (ipykernel)",
   "language": "python",
   "name": "python3"
  },
  "language_info": {
   "codemirror_mode": {
    "name": "ipython",
    "version": 3
   },
   "file_extension": ".py",
   "mimetype": "text/x-python",
   "name": "python",
   "nbconvert_exporter": "python",
   "pygments_lexer": "ipython3",
   "version": "3.9.7"
  }
 },
 "nbformat": 4,
 "nbformat_minor": 5
}
